{
  "nbformat": 4,
  "nbformat_minor": 0,
  "metadata": {
    "colab": {
      "provenance": []
    },
    "kernelspec": {
      "name": "python3",
      "display_name": "Python 3"
    },
    "language_info": {
      "name": "python"
    }
  },
  "cells": [
    {
      "cell_type": "markdown",
      "source": [
        "## **Import Packages**"
      ],
      "metadata": {
        "id": "WMu9rjUATUQ1"
      }
    },
    {
      "cell_type": "code",
      "execution_count": null,
      "metadata": {
        "id": "Wak_8EAWtkU1"
      },
      "outputs": [],
      "source": [
        "import numpy as np\n",
        "np.set_printoptions(suppress = True, linewidth = 100, precision = 2)"
      ]
    },
    {
      "cell_type": "markdown",
      "source": [
        "## **Import Data**"
      ],
      "metadata": {
        "id": "uytXpXCRTjYC"
      }
    },
    {
      "cell_type": "code",
      "source": [
        "raw_data_np = np.genfromtxt('/content/loan-data.csv', delimiter = ';', encoding = \"iso-8859-1\", skip_header = 1, autostrip = True)\n",
        "raw_data_np\n"
      ],
      "metadata": {
        "colab": {
          "base_uri": "https://localhost:8080/"
        },
        "id": "WchyPrywty6m",
        "outputId": "33cae4fb-b22d-4496-95ff-012e66cdf76f"
      },
      "execution_count": null,
      "outputs": [
        {
          "output_type": "execute_result",
          "data": {
            "text/plain": [
              "array([[48010226.  ,         nan,    35000.  , ...,         nan,         nan,     9452.96],\n",
              "       [57693261.  ,         nan,    30000.  , ...,         nan,         nan,     4679.7 ],\n",
              "       [59432726.  ,         nan,    15000.  , ...,         nan,         nan,     1969.83],\n",
              "       ...,\n",
              "       [50415990.  ,         nan,    10000.  , ...,         nan,         nan,     2185.64],\n",
              "       [46154151.  ,         nan,         nan, ...,         nan,         nan,     3199.4 ],\n",
              "       [66055249.  ,         nan,    10000.  , ...,         nan,         nan,      301.9 ]])"
            ]
          },
          "metadata": {},
          "execution_count": 3
        }
      ]
    },
    {
      "cell_type": "markdown",
      "source": [
        "## **Check For Incomplete Data**"
      ],
      "metadata": {
        "id": "WMO3Q6RSTrrV"
      }
    },
    {
      "cell_type": "code",
      "source": [
        " np.isnan(raw_data_np).sum()"
      ],
      "metadata": {
        "id": "y469IkO3u51F",
        "colab": {
          "base_uri": "https://localhost:8080/"
        },
        "outputId": "4bbcd1e9-43a2-4ec9-9133-89f9ed28e8f3"
      },
      "execution_count": null,
      "outputs": [
        {
          "output_type": "execute_result",
          "data": {
            "text/plain": [
              "88005"
            ]
          },
          "metadata": {},
          "execution_count": 4
        }
      ]
    },
    {
      "cell_type": "code",
      "source": [
        "temporary_fill = np.nanmax(raw_data_np) + 1\n",
        "temporary_mean = np.nanmean(raw_data_np, axis = 0)"
      ],
      "metadata": {
        "colab": {
          "base_uri": "https://localhost:8080/"
        },
        "id": "5vcgpqn0UE4I",
        "outputId": "72dfacab-37f0-402e-fd83-298b71547f8a"
      },
      "execution_count": null,
      "outputs": [
        {
          "output_type": "stream",
          "name": "stderr",
          "text": [
            "<ipython-input-5-eeff3b704aa1>:2: RuntimeWarning: Mean of empty slice\n",
            "  temporary_mean = np.nanmean(raw_data_np, axis = 0)\n"
          ]
        }
      ]
    },
    {
      "cell_type": "code",
      "source": [
        "temporary_mean"
      ],
      "metadata": {
        "colab": {
          "base_uri": "https://localhost:8080/"
        },
        "id": "ubzgzO_FXSTc",
        "outputId": "e3ac0878-772a-4e83-bd88-143a40b1fbf8"
      },
      "execution_count": null,
      "outputs": [
        {
          "output_type": "execute_result",
          "data": {
            "text/plain": [
              "array([54015809.19,         nan,    15273.46,         nan,    15311.04,         nan,       16.62,\n",
              "            440.92,         nan,         nan,         nan,         nan,         nan,     3143.85])"
            ]
          },
          "metadata": {},
          "execution_count": 6
        }
      ]
    },
    {
      "cell_type": "code",
      "source": [
        "temp_stats = np.array([np.nanmin(raw_data_np, axis =0),\n",
        "                      temporary_mean,\n",
        "                      np.nanmax(raw_data_np, axis =0)])"
      ],
      "metadata": {
        "colab": {
          "base_uri": "https://localhost:8080/"
        },
        "id": "7AqND2tBXWoH",
        "outputId": "6dd8f817-7ddc-435a-de48-a7b89127df62"
      },
      "execution_count": null,
      "outputs": [
        {
          "output_type": "stream",
          "name": "stderr",
          "text": [
            "<ipython-input-7-639ab17d274c>:1: RuntimeWarning: All-NaN slice encountered\n",
            "  temp_stats = np.array([np.nanmin(raw_data_np, axis =0),\n",
            "<ipython-input-7-639ab17d274c>:3: RuntimeWarning: All-NaN slice encountered\n",
            "  np.nanmax(raw_data_np, axis =0)])\n"
          ]
        }
      ]
    },
    {
      "cell_type": "code",
      "source": [
        "temp_stats"
      ],
      "metadata": {
        "colab": {
          "base_uri": "https://localhost:8080/"
        },
        "id": "FA_39xW3X57i",
        "outputId": "873589f9-dcde-42a5-eac8-659ba52be525"
      },
      "execution_count": null,
      "outputs": [
        {
          "output_type": "execute_result",
          "data": {
            "text/plain": [
              "array([[  373332.  ,         nan,     1000.  ,         nan,     1000.  ,         nan,        6.  ,\n",
              "              31.42,         nan,         nan,         nan,         nan,         nan,        0.  ],\n",
              "       [54015809.19,         nan,    15273.46,         nan,    15311.04,         nan,       16.62,\n",
              "             440.92,         nan,         nan,         nan,         nan,         nan,     3143.85],\n",
              "       [68616519.  ,         nan,    35000.  ,         nan,    35000.  ,         nan,       28.99,\n",
              "            1372.97,         nan,         nan,         nan,         nan,         nan,    41913.62]])"
            ]
          },
          "metadata": {},
          "execution_count": 8
        }
      ]
    },
    {
      "cell_type": "markdown",
      "source": [
        "# **Splitting the data**"
      ],
      "metadata": {
        "id": "hkuUPqPmYDcd"
      }
    },
    {
      "cell_type": "code",
      "source": [
        "column_strings = np.argwhere(np.isnan(temporary_mean)).squeeze()\n",
        "column_strings"
      ],
      "metadata": {
        "colab": {
          "base_uri": "https://localhost:8080/"
        },
        "id": "bvkRbgCOYG__",
        "outputId": "dacd2ed0-1d5d-4c7f-a535-f6480618cd7e"
      },
      "execution_count": null,
      "outputs": [
        {
          "output_type": "execute_result",
          "data": {
            "text/plain": [
              "array([ 1,  3,  5,  8,  9, 10, 11, 12])"
            ]
          },
          "metadata": {},
          "execution_count": 9
        }
      ]
    },
    {
      "cell_type": "code",
      "source": [
        "column_numeric = np.argwhere(np.isnan(temporary_mean) == False).squeeze()\n",
        "column_numeric"
      ],
      "metadata": {
        "colab": {
          "base_uri": "https://localhost:8080/"
        },
        "id": "AF86sgCsaxMc",
        "outputId": "9e584aae-824d-485e-f6bc-70b58cdcaa13"
      },
      "execution_count": null,
      "outputs": [
        {
          "output_type": "execute_result",
          "data": {
            "text/plain": [
              "array([ 0,  2,  4,  6,  7, 13])"
            ]
          },
          "metadata": {},
          "execution_count": 10
        }
      ]
    },
    {
      "cell_type": "markdown",
      "source": [
        "# **Re-Import data**"
      ],
      "metadata": {
        "id": "xtF_YTZcbZ83"
      }
    },
    {
      "cell_type": "code",
      "source": [
        "loan_data_strings = np.genfromtxt('/content/loan-data.csv',\n",
        "                                  delimiter = ';',\n",
        "                                  autostrip = True,\n",
        "                                  skip_header = 1,\n",
        "                                  usecols = column_strings,\n",
        "                                  encoding = \"iso-8859-1\",\n",
        "                                  dtype = str)\n",
        "loan_data_strings"
      ],
      "metadata": {
        "colab": {
          "base_uri": "https://localhost:8080/"
        },
        "id": "kJ7vxqcHbd0L",
        "outputId": "fdd41d0c-d76e-40fc-bb87-f96d8c686d95"
      },
      "execution_count": null,
      "outputs": [
        {
          "output_type": "execute_result",
          "data": {
            "text/plain": [
              "array([['May-15', 'Current', '36 months', ..., 'Verified',\n",
              "        'https://www.lendingclub.com/browse/loanDetail.action?loan_id=48010226', 'CA'],\n",
              "       ['', 'Current', '36 months', ..., 'Source Verified',\n",
              "        'https://www.lendingclub.com/browse/loanDetail.action?loan_id=57693261', 'NY'],\n",
              "       ['Sep-15', 'Current', '36 months', ..., 'Verified',\n",
              "        'https://www.lendingclub.com/browse/loanDetail.action?loan_id=59432726', 'PA'],\n",
              "       ...,\n",
              "       ['Jun-15', 'Current', '36 months', ..., 'Source Verified',\n",
              "        'https://www.lendingclub.com/browse/loanDetail.action?loan_id=50415990', 'CA'],\n",
              "       ['Apr-15', 'Current', '36 months', ..., 'Source Verified',\n",
              "        'https://www.lendingclub.com/browse/loanDetail.action?loan_id=46154151', 'OH'],\n",
              "       ['Dec-15', 'Current', '36 months', ..., '',\n",
              "        'https://www.lendingclub.com/browse/loanDetail.action?loan_id=66055249', 'IL']],\n",
              "      dtype='<U69')"
            ]
          },
          "metadata": {},
          "execution_count": 11
        }
      ]
    },
    {
      "cell_type": "code",
      "source": [
        "loan_data_numeric = np.genfromtxt('/content/loan-data.csv',\n",
        "                                  delimiter = ';',\n",
        "                                  autostrip = True,\n",
        "                                  skip_header = 1,\n",
        "                                  usecols = column_numeric,\n",
        "                                  encoding = \"iso-8859-1\",\n",
        "                                  filling_values = temporary_fill)\n",
        "\n",
        "loan_data_numeric"
      ],
      "metadata": {
        "colab": {
          "base_uri": "https://localhost:8080/"
        },
        "id": "WHaac7iMcFZZ",
        "outputId": "f4aaf791-3fed-49bb-d21b-e657dbbf6f8b"
      },
      "execution_count": null,
      "outputs": [
        {
          "output_type": "execute_result",
          "data": {
            "text/plain": [
              "array([[48010226.  ,    35000.  ,    35000.  ,       13.33,     1184.86,     9452.96],\n",
              "       [57693261.  ,    30000.  ,    30000.  , 68616520.  ,      938.57,     4679.7 ],\n",
              "       [59432726.  ,    15000.  ,    15000.  , 68616520.  ,      494.86,     1969.83],\n",
              "       ...,\n",
              "       [50415990.  ,    10000.  ,    10000.  , 68616520.  , 68616520.  ,     2185.64],\n",
              "       [46154151.  , 68616520.  ,    10000.  ,       16.55,      354.3 ,     3199.4 ],\n",
              "       [66055249.  ,    10000.  ,    10000.  , 68616520.  ,      309.97,      301.9 ]])"
            ]
          },
          "metadata": {},
          "execution_count": 13
        }
      ]
    },
    {
      "cell_type": "markdown",
      "source": [
        "# **The Names Of Columns**\n",
        "\n",
        "\n",
        "\n"
      ],
      "metadata": {
        "id": "_IgaU1IEe4JU"
      }
    },
    {
      "cell_type": "code",
      "source": [
        "header_full = np.genfromtxt('/content/loan-data.csv',\n",
        "                                  delimiter = ';',\n",
        "                                  autostrip = True,\n",
        "                                  skip_footer = raw_data_np.shape[0],\n",
        "                                  encoding = \"iso-8859-1\",\n",
        "                                  dtype = str)\n",
        "header_full"
      ],
      "metadata": {
        "colab": {
          "base_uri": "https://localhost:8080/"
        },
        "id": "2qjtO5w8cWhF",
        "outputId": "7edc1b88-43a1-4367-e227-80f86cfa509d"
      },
      "execution_count": null,
      "outputs": [
        {
          "output_type": "execute_result",
          "data": {
            "text/plain": [
              "array(['id', 'issue_d', 'loan_amnt', 'loan_status', 'funded_amnt', 'term', 'int_rate',\n",
              "       'installment', 'grade', 'sub_grade', 'verification_status', 'url', 'addr_state',\n",
              "       'total_pymnt'], dtype='<U19')"
            ]
          },
          "metadata": {},
          "execution_count": 14
        }
      ]
    },
    {
      "cell_type": "code",
      "source": [
        "header_numeric, header_strings = header_full[column_numeric], header_full[column_strings]"
      ],
      "metadata": {
        "id": "-CEOQJ9SfvsZ"
      },
      "execution_count": null,
      "outputs": []
    },
    {
      "cell_type": "code",
      "source": [
        "header_strings"
      ],
      "metadata": {
        "colab": {
          "base_uri": "https://localhost:8080/"
        },
        "id": "Dc9WM7pRgn1Z",
        "outputId": "adcf2a98-3553-4aae-b8c5-9e51307427d4"
      },
      "execution_count": null,
      "outputs": [
        {
          "output_type": "execute_result",
          "data": {
            "text/plain": [
              "array(['issue_d', 'loan_status', 'term', 'grade', 'sub_grade', 'verification_status', 'url',\n",
              "       'addr_state'], dtype='<U19')"
            ]
          },
          "metadata": {},
          "execution_count": 16
        }
      ]
    },
    {
      "cell_type": "code",
      "source": [
        "header_numeric"
      ],
      "metadata": {
        "colab": {
          "base_uri": "https://localhost:8080/"
        },
        "id": "xpCrKvGZgqa4",
        "outputId": "fbabdfd7-23b5-4534-eaae-9b0a6ac652c3"
      },
      "execution_count": null,
      "outputs": [
        {
          "output_type": "execute_result",
          "data": {
            "text/plain": [
              "array(['id', 'loan_amnt', 'funded_amnt', 'int_rate', 'installment', 'total_pymnt'], dtype='<U19')"
            ]
          },
          "metadata": {},
          "execution_count": 17
        }
      ]
    },
    {
      "cell_type": "markdown",
      "source": [
        "##**Creating Checkpoints**"
      ],
      "metadata": {
        "id": "0HiKMwM3dG2X"
      }
    },
    {
      "cell_type": "code",
      "source": [
        "def checkpoint(file_name, checkpoint_header, checkpoint_data):\n",
        "    np.savez(file_name, header = checkpoint_header, data = checkpoint_data)\n",
        "    checkpoint_variable = np.load(file_name + '.npz')\n",
        "    return(checkpoint_variable)"
      ],
      "metadata": {
        "id": "ymHUm9OLguHq"
      },
      "execution_count": null,
      "outputs": []
    },
    {
      "cell_type": "code",
      "source": [
        "checkpoint_test = checkpoint(\"checkpoint-test\", header_strings, loan_data_strings)"
      ],
      "metadata": {
        "id": "WSL3owlne_GD"
      },
      "execution_count": null,
      "outputs": []
    },
    {
      "cell_type": "code",
      "source": [
        "checkpoint_test['data']"
      ],
      "metadata": {
        "colab": {
          "base_uri": "https://localhost:8080/"
        },
        "id": "ScHAFog6fWPS",
        "outputId": "ee8dc4dc-c021-4431-85ea-864c1cfc9192"
      },
      "execution_count": null,
      "outputs": [
        {
          "output_type": "execute_result",
          "data": {
            "text/plain": [
              "array([['May-15', 'Current', '36 months', ..., 'Verified',\n",
              "        'https://www.lendingclub.com/browse/loanDetail.action?loan_id=48010226', 'CA'],\n",
              "       ['', 'Current', '36 months', ..., 'Source Verified',\n",
              "        'https://www.lendingclub.com/browse/loanDetail.action?loan_id=57693261', 'NY'],\n",
              "       ['Sep-15', 'Current', '36 months', ..., 'Verified',\n",
              "        'https://www.lendingclub.com/browse/loanDetail.action?loan_id=59432726', 'PA'],\n",
              "       ...,\n",
              "       ['Jun-15', 'Current', '36 months', ..., 'Source Verified',\n",
              "        'https://www.lendingclub.com/browse/loanDetail.action?loan_id=50415990', 'CA'],\n",
              "       ['Apr-15', 'Current', '36 months', ..., 'Source Verified',\n",
              "        'https://www.lendingclub.com/browse/loanDetail.action?loan_id=46154151', 'OH'],\n",
              "       ['Dec-15', 'Current', '36 months', ..., '',\n",
              "        'https://www.lendingclub.com/browse/loanDetail.action?loan_id=66055249', 'IL']],\n",
              "      dtype='<U69')"
            ]
          },
          "metadata": {},
          "execution_count": 20
        }
      ]
    },
    {
      "cell_type": "code",
      "source": [
        "np.array_equal(checkpoint_test['data'], loan_data_strings)"
      ],
      "metadata": {
        "colab": {
          "base_uri": "https://localhost:8080/"
        },
        "id": "B3XymVDJgP8v",
        "outputId": "e1a29ce0-da60-434e-dbfc-c17f622c46ce"
      },
      "execution_count": null,
      "outputs": [
        {
          "output_type": "execute_result",
          "data": {
            "text/plain": [
              "True"
            ]
          },
          "metadata": {},
          "execution_count": 21
        }
      ]
    },
    {
      "cell_type": "markdown",
      "source": [
        "#**Manipulating String Columns**"
      ],
      "metadata": {
        "id": "wTQEp_BCiNBu"
      }
    },
    {
      "cell_type": "code",
      "source": [
        "header_strings"
      ],
      "metadata": {
        "id": "Bz18ZOy0iL_A",
        "colab": {
          "base_uri": "https://localhost:8080/"
        },
        "outputId": "735b66c0-520d-4fd0-ae60-4660b9384078"
      },
      "execution_count": null,
      "outputs": [
        {
          "output_type": "execute_result",
          "data": {
            "text/plain": [
              "array(['issue_d', 'loan_status', 'term', 'grade', 'sub_grade', 'verification_status', 'url',\n",
              "       'addr_state'], dtype='<U19')"
            ]
          },
          "metadata": {},
          "execution_count": 22
        }
      ]
    },
    {
      "cell_type": "code",
      "source": [
        "header_strings[0] = \"issue_date\""
      ],
      "metadata": {
        "id": "FOShSPWTJ3JJ"
      },
      "execution_count": null,
      "outputs": []
    },
    {
      "cell_type": "code",
      "source": [
        "loan_data_strings"
      ],
      "metadata": {
        "colab": {
          "base_uri": "https://localhost:8080/"
        },
        "id": "PoREy_HWKTMr",
        "outputId": "5081861c-1001-4921-fc13-032ac49cadf3"
      },
      "execution_count": null,
      "outputs": [
        {
          "output_type": "execute_result",
          "data": {
            "text/plain": [
              "array([['May-15', 'Current', '36 months', ..., 'Verified',\n",
              "        'https://www.lendingclub.com/browse/loanDetail.action?loan_id=48010226', 'CA'],\n",
              "       ['', 'Current', '36 months', ..., 'Source Verified',\n",
              "        'https://www.lendingclub.com/browse/loanDetail.action?loan_id=57693261', 'NY'],\n",
              "       ['Sep-15', 'Current', '36 months', ..., 'Verified',\n",
              "        'https://www.lendingclub.com/browse/loanDetail.action?loan_id=59432726', 'PA'],\n",
              "       ...,\n",
              "       ['Jun-15', 'Current', '36 months', ..., 'Source Verified',\n",
              "        'https://www.lendingclub.com/browse/loanDetail.action?loan_id=50415990', 'CA'],\n",
              "       ['Apr-15', 'Current', '36 months', ..., 'Source Verified',\n",
              "        'https://www.lendingclub.com/browse/loanDetail.action?loan_id=46154151', 'OH'],\n",
              "       ['Dec-15', 'Current', '36 months', ..., '',\n",
              "        'https://www.lendingclub.com/browse/loanDetail.action?loan_id=66055249', 'IL']],\n",
              "      dtype='<U69')"
            ]
          },
          "metadata": {},
          "execution_count": 24
        }
      ]
    },
    {
      "cell_type": "markdown",
      "source": [
        "# **Issue Date**"
      ],
      "metadata": {
        "id": "6weVWU8QNUoA"
      }
    },
    {
      "cell_type": "code",
      "source": [
        "loan_data_strings[:,0]"
      ],
      "metadata": {
        "colab": {
          "base_uri": "https://localhost:8080/"
        },
        "id": "qPBBwcCLKWka",
        "outputId": "9beda5ae-1d6c-4432-b063-3b4184115495"
      },
      "execution_count": null,
      "outputs": [
        {
          "output_type": "execute_result",
          "data": {
            "text/plain": [
              "array(['May-15', '', 'Sep-15', ..., 'Jun-15', 'Apr-15', 'Dec-15'], dtype='<U69')"
            ]
          },
          "metadata": {},
          "execution_count": 25
        }
      ]
    },
    {
      "cell_type": "code",
      "source": [
        "np.unique(loan_data_strings[:,0])"
      ],
      "metadata": {
        "colab": {
          "base_uri": "https://localhost:8080/"
        },
        "id": "oEghWe4iKZ4q",
        "outputId": "fd388a88-0769-414a-a887-ecf36eb9a2a7"
      },
      "execution_count": null,
      "outputs": [
        {
          "output_type": "execute_result",
          "data": {
            "text/plain": [
              "array(['', 'Apr-15', 'Aug-15', 'Dec-15', 'Feb-15', 'Jan-15', 'Jul-15', 'Jun-15', 'Mar-15',\n",
              "       'May-15', 'Nov-15', 'Oct-15', 'Sep-15'], dtype='<U69')"
            ]
          },
          "metadata": {},
          "execution_count": 26
        }
      ]
    },
    {
      "cell_type": "code",
      "source": [
        "loan_data_strings[:,0] = np.chararray.strip(loan_data_strings[:,0], \"-15\")"
      ],
      "metadata": {
        "id": "0FT5D5bVKhV1"
      },
      "execution_count": null,
      "outputs": []
    },
    {
      "cell_type": "code",
      "source": [
        "months = np.array(['', 'Jan', 'Feb', 'Mar', 'Apr', 'May', 'Jun', 'Jul', 'Aug', 'Sep', 'Oct', 'Nov', 'Dec'])"
      ],
      "metadata": {
        "id": "Sn32XxzgK_bG"
      },
      "execution_count": null,
      "outputs": []
    },
    {
      "cell_type": "code",
      "source": [
        "for i in range(13):\n",
        "    loan_data_strings[:,0] = np.where(loan_data_strings[:,0] == months[i],\n",
        "                                      i,\n",
        "                                      loan_data_strings[:,0])"
      ],
      "metadata": {
        "id": "Aa2GQYG2MQdw"
      },
      "execution_count": null,
      "outputs": []
    },
    {
      "cell_type": "code",
      "source": [
        "np.unique(loan_data_strings[:,0])"
      ],
      "metadata": {
        "colab": {
          "base_uri": "https://localhost:8080/"
        },
        "id": "9Ve80nNAMqqA",
        "outputId": "c001bc5e-2b37-4a0b-e4cd-0eaf2cb45176"
      },
      "execution_count": null,
      "outputs": [
        {
          "output_type": "execute_result",
          "data": {
            "text/plain": [
              "array(['0', '1', '10', '11', '12', '2', '3', '4', '5', '6', '7', '8', '9'], dtype='<U69')"
            ]
          },
          "metadata": {},
          "execution_count": 30
        }
      ]
    },
    {
      "cell_type": "markdown",
      "source": [
        "# **Loan Status**"
      ],
      "metadata": {
        "id": "xopW5JUDNicb"
      }
    },
    {
      "cell_type": "code",
      "source": [
        "header_strings"
      ],
      "metadata": {
        "colab": {
          "base_uri": "https://localhost:8080/"
        },
        "id": "PG8R2JyPNk-z",
        "outputId": "29a894bd-5e86-4b91-ce1d-d59b1e311f44"
      },
      "execution_count": null,
      "outputs": [
        {
          "output_type": "execute_result",
          "data": {
            "text/plain": [
              "array(['issue_date', 'loan_status', 'term', 'grade', 'sub_grade', 'verification_status', 'url',\n",
              "       'addr_state'], dtype='<U19')"
            ]
          },
          "metadata": {},
          "execution_count": 31
        }
      ]
    },
    {
      "cell_type": "code",
      "source": [
        "np.unique(loan_data_strings[:,1])"
      ],
      "metadata": {
        "colab": {
          "base_uri": "https://localhost:8080/"
        },
        "id": "qNKiQ2YlQVrs",
        "outputId": "a01e4e43-2fa3-4fb4-da44-bb457ae760d9"
      },
      "execution_count": null,
      "outputs": [
        {
          "output_type": "execute_result",
          "data": {
            "text/plain": [
              "array(['', 'Charged Off', 'Current', 'Default', 'Fully Paid', 'In Grace Period', 'Issued',\n",
              "       'Late (16-30 days)', 'Late (31-120 days)'], dtype='<U69')"
            ]
          },
          "metadata": {},
          "execution_count": 32
        }
      ]
    },
    {
      "cell_type": "code",
      "source": [
        "np.unique(loan_data_strings[:,1]).size"
      ],
      "metadata": {
        "colab": {
          "base_uri": "https://localhost:8080/"
        },
        "id": "oXvd7-qfQiDO",
        "outputId": "0a0c6f24-2c57-4390-df5f-dfb61f7eb244"
      },
      "execution_count": null,
      "outputs": [
        {
          "output_type": "execute_result",
          "data": {
            "text/plain": [
              "9"
            ]
          },
          "metadata": {},
          "execution_count": 33
        }
      ]
    },
    {
      "cell_type": "code",
      "source": [
        "status_bad = np.array(['','Charged Off','Default', 'Late (31-120 days)'])"
      ],
      "metadata": {
        "id": "nvzBB9GrQwwq"
      },
      "execution_count": null,
      "outputs": []
    },
    {
      "cell_type": "code",
      "source": [
        "loan_data_strings[:,1] = np.where(np.isin(loan_data_strings[:,1], status_bad),0,1)"
      ],
      "metadata": {
        "id": "tAsovWsvSiho"
      },
      "execution_count": null,
      "outputs": []
    },
    {
      "cell_type": "code",
      "source": [
        "np.unique(loan_data_strings[:,1])"
      ],
      "metadata": {
        "colab": {
          "base_uri": "https://localhost:8080/"
        },
        "id": "k6s5Ou7H1GP2",
        "outputId": "5daad48a-0f53-4b68-d8e5-70268c84d28b"
      },
      "execution_count": null,
      "outputs": [
        {
          "output_type": "execute_result",
          "data": {
            "text/plain": [
              "array(['0', '1'], dtype='<U69')"
            ]
          },
          "metadata": {},
          "execution_count": 36
        }
      ]
    },
    {
      "cell_type": "markdown",
      "source": [
        "# **Term**"
      ],
      "metadata": {
        "id": "KxUF3TO7LI4R"
      }
    },
    {
      "cell_type": "code",
      "source": [
        "header_strings"
      ],
      "metadata": {
        "id": "dkVpXbOP1mzY",
        "colab": {
          "base_uri": "https://localhost:8080/"
        },
        "outputId": "7a467092-8b76-4e3e-a8dc-dbff7c69f187"
      },
      "execution_count": null,
      "outputs": [
        {
          "output_type": "execute_result",
          "data": {
            "text/plain": [
              "array(['issue_date', 'loan_status', 'term', 'grade', 'sub_grade', 'verification_status', 'url',\n",
              "       'addr_state'], dtype='<U19')"
            ]
          },
          "metadata": {},
          "execution_count": 37
        }
      ]
    },
    {
      "cell_type": "code",
      "source": [
        "np.unique(loan_data_strings[:,2])"
      ],
      "metadata": {
        "colab": {
          "base_uri": "https://localhost:8080/"
        },
        "id": "Tz8yfRWXLO78",
        "outputId": "7c351263-9847-4b01-bafb-11847b3aa934"
      },
      "execution_count": null,
      "outputs": [
        {
          "output_type": "execute_result",
          "data": {
            "text/plain": [
              "array(['', '36 months', '60 months'], dtype='<U69')"
            ]
          },
          "metadata": {},
          "execution_count": 38
        }
      ]
    },
    {
      "cell_type": "code",
      "source": [
        "loan_data_strings[:,2] = np.chararray.strip(loan_data_strings[:,2],\" months\")\n",
        "loan_data_strings[:,2]"
      ],
      "metadata": {
        "colab": {
          "base_uri": "https://localhost:8080/"
        },
        "id": "kijAhw9kLujg",
        "outputId": "3de17ca1-9d2d-41a4-ae85-ee0ae8cf3551"
      },
      "execution_count": null,
      "outputs": [
        {
          "output_type": "execute_result",
          "data": {
            "text/plain": [
              "array(['36', '36', '36', ..., '36', '36', '36'], dtype='<U69')"
            ]
          },
          "metadata": {},
          "execution_count": 39
        }
      ]
    },
    {
      "cell_type": "code",
      "source": [
        "header_strings[2] = 'term_months'\n",
        "header_strings"
      ],
      "metadata": {
        "colab": {
          "base_uri": "https://localhost:8080/"
        },
        "id": "4-J3zMJ0MM45",
        "outputId": "60fb5949-b1fc-40ac-9a52-f3c9902dd68e"
      },
      "execution_count": null,
      "outputs": [
        {
          "output_type": "execute_result",
          "data": {
            "text/plain": [
              "array(['issue_date', 'loan_status', 'term_months', 'grade', 'sub_grade', 'verification_status',\n",
              "       'url', 'addr_state'], dtype='<U19')"
            ]
          },
          "metadata": {},
          "execution_count": 40
        }
      ]
    },
    {
      "cell_type": "code",
      "source": [
        "loan_data_strings[:,2] = np.where(loan_data_strings[:,2] == '',\n",
        "                                  '60',\n",
        "                                  loan_data_strings[:,2])\n",
        "loan_data_strings[:,2]"
      ],
      "metadata": {
        "colab": {
          "base_uri": "https://localhost:8080/"
        },
        "id": "jbm8ewvWMal8",
        "outputId": "b74a5772-ead8-4753-bf9c-36ad97fb70c4"
      },
      "execution_count": null,
      "outputs": [
        {
          "output_type": "execute_result",
          "data": {
            "text/plain": [
              "array(['36', '36', '36', ..., '36', '36', '36'], dtype='<U69')"
            ]
          },
          "metadata": {},
          "execution_count": 41
        }
      ]
    },
    {
      "cell_type": "code",
      "source": [
        "np.unique(loan_data_strings[:,2])"
      ],
      "metadata": {
        "colab": {
          "base_uri": "https://localhost:8080/"
        },
        "id": "Yomba5dKOr-R",
        "outputId": "4befc03c-9a85-4287-a426-eacc591ea6f7"
      },
      "execution_count": null,
      "outputs": [
        {
          "output_type": "execute_result",
          "data": {
            "text/plain": [
              "array(['36', '60'], dtype='<U69')"
            ]
          },
          "metadata": {},
          "execution_count": 42
        }
      ]
    },
    {
      "cell_type": "markdown",
      "source": [
        "# **Grade And Subgrade**"
      ],
      "metadata": {
        "id": "_pDAE7ZFPbwi"
      }
    },
    {
      "cell_type": "code",
      "source": [
        "header_strings"
      ],
      "metadata": {
        "colab": {
          "base_uri": "https://localhost:8080/"
        },
        "id": "BG2wLgIMOz5o",
        "outputId": "78b4351a-dc12-45d6-f57f-4bc629b12eec"
      },
      "execution_count": null,
      "outputs": [
        {
          "output_type": "execute_result",
          "data": {
            "text/plain": [
              "array(['issue_date', 'loan_status', 'term_months', 'grade', 'sub_grade', 'verification_status',\n",
              "       'url', 'addr_state'], dtype='<U19')"
            ]
          },
          "metadata": {},
          "execution_count": 43
        }
      ]
    },
    {
      "cell_type": "code",
      "source": [
        "np.unique(loan_data_strings[:,3])"
      ],
      "metadata": {
        "colab": {
          "base_uri": "https://localhost:8080/"
        },
        "id": "rnuSIO47RrGR",
        "outputId": "d97073ca-b3e3-4823-8428-ca6581ee5715"
      },
      "execution_count": null,
      "outputs": [
        {
          "output_type": "execute_result",
          "data": {
            "text/plain": [
              "array(['', 'A', 'B', 'C', 'D', 'E', 'F', 'G'], dtype='<U69')"
            ]
          },
          "metadata": {},
          "execution_count": 44
        }
      ]
    },
    {
      "cell_type": "code",
      "source": [
        "np.unique(loan_data_strings[:,4])"
      ],
      "metadata": {
        "id": "TJsWIqHzSsjw",
        "colab": {
          "base_uri": "https://localhost:8080/"
        },
        "outputId": "51753a5b-60bb-4372-a27d-a97d59893b27"
      },
      "execution_count": null,
      "outputs": [
        {
          "output_type": "execute_result",
          "data": {
            "text/plain": [
              "array(['', 'A1', 'A2', 'A3', 'A4', 'A5', 'B1', 'B2', 'B3', 'B4', 'B5', 'C1', 'C2', 'C3', 'C4',\n",
              "       'C5', 'D1', 'D2', 'D3', 'D4', 'D5', 'E1', 'E2', 'E3', 'E4', 'E5', 'F1', 'F2', 'F3', 'F4',\n",
              "       'F5', 'G1', 'G2', 'G3', 'G4', 'G5'], dtype='<U69')"
            ]
          },
          "metadata": {},
          "execution_count": 45
        }
      ]
    },
    {
      "cell_type": "code",
      "source": [
        "for i in np.unique(loan_data_strings[:,3])[1:]:\n",
        "  loan_data_strings[:,4] = np.where((loan_data_strings[:,4] == '') & (loan_data_strings[:,3] == i),\n",
        "                                    i + '5',\n",
        "                                    loan_data_strings[:,4])"
      ],
      "metadata": {
        "id": "tZJcOpBkTqLi"
      },
      "execution_count": null,
      "outputs": []
    },
    {
      "cell_type": "code",
      "source": [
        "np.unique(loan_data_strings[:,4])"
      ],
      "metadata": {
        "colab": {
          "base_uri": "https://localhost:8080/"
        },
        "id": "OJW0Rs_hV05B",
        "outputId": "b7700ccf-8ac6-4b20-bb89-2065fcc3cd30"
      },
      "execution_count": null,
      "outputs": [
        {
          "output_type": "execute_result",
          "data": {
            "text/plain": [
              "array(['', 'A1', 'A2', 'A3', 'A4', 'A5', 'B1', 'B2', 'B3', 'B4', 'B5', 'C1', 'C2', 'C3', 'C4',\n",
              "       'C5', 'D1', 'D2', 'D3', 'D4', 'D5', 'E1', 'E2', 'E3', 'E4', 'E5', 'F1', 'F2', 'F3', 'F4',\n",
              "       'F5', 'G1', 'G2', 'G3', 'G4', 'G5'], dtype='<U69')"
            ]
          },
          "metadata": {},
          "execution_count": 47
        }
      ]
    },
    {
      "cell_type": "code",
      "source": [
        "## still missing values for loop changed nothing\n",
        "## 9 missing values\n",
        "np.unique(loan_data_strings[:,4], return_counts = True)"
      ],
      "metadata": {
        "id": "XijsWVX_V4DC",
        "colab": {
          "base_uri": "https://localhost:8080/"
        },
        "outputId": "dbfaff87-cab9-41ea-b956-c89d486880d6"
      },
      "execution_count": null,
      "outputs": [
        {
          "output_type": "execute_result",
          "data": {
            "text/plain": [
              "(array(['', 'A1', 'A2', 'A3', 'A4', 'A5', 'B1', 'B2', 'B3', 'B4', 'B5', 'C1', 'C2', 'C3', 'C4',\n",
              "        'C5', 'D1', 'D2', 'D3', 'D4', 'D5', 'E1', 'E2', 'E3', 'E4', 'E5', 'F1', 'F2', 'F3', 'F4',\n",
              "        'F5', 'G1', 'G2', 'G3', 'G4', 'G5'], dtype='<U69'),\n",
              " array([  9, 285, 278, 239, 323, 592, 509, 517, 530, 553, 633, 629, 567, 586, 564, 577, 391, 267,\n",
              "        250, 255, 288, 235, 162, 171, 139, 160,  94,  52,  34,  43,  24,  19,  10,   3,   7,   5]))"
            ]
          },
          "metadata": {},
          "execution_count": 48
        }
      ]
    },
    {
      "cell_type": "code",
      "source": [
        "loan_data_strings[:,4] = np.where(loan_data_strings[:,4] == '',\n",
        "                                  'H1',\n",
        "                                  loan_data_strings[:,4])"
      ],
      "metadata": {
        "id": "PRJ_M32dQgmf"
      },
      "execution_count": null,
      "outputs": []
    },
    {
      "cell_type": "code",
      "source": [
        "##Assuming blanks are bad added a worse column of H1 for missing data\n",
        "\n",
        "np.unique(loan_data_strings[:,4])"
      ],
      "metadata": {
        "colab": {
          "base_uri": "https://localhost:8080/"
        },
        "id": "nfHY0rpkSFoA",
        "outputId": "8a846317-8e3d-428e-dd65-ccd2ea7adf03"
      },
      "execution_count": null,
      "outputs": [
        {
          "output_type": "execute_result",
          "data": {
            "text/plain": [
              "array(['A1', 'A2', 'A3', 'A4', 'A5', 'B1', 'B2', 'B3', 'B4', 'B5', 'C1', 'C2', 'C3', 'C4', 'C5',\n",
              "       'D1', 'D2', 'D3', 'D4', 'D5', 'E1', 'E2', 'E3', 'E4', 'E5', 'F1', 'F2', 'F3', 'F4', 'F5',\n",
              "       'G1', 'G2', 'G3', 'G4', 'G5', 'H1'], dtype='<U69')"
            ]
          },
          "metadata": {},
          "execution_count": 50
        }
      ]
    },
    {
      "cell_type": "markdown",
      "source": [
        "# **Removing Grade Column**"
      ],
      "metadata": {
        "id": "m9WnNAg8SY0F"
      }
    },
    {
      "cell_type": "code",
      "source": [
        "loan_data_strings = np.delete(loan_data_strings, 3, axis = 1)"
      ],
      "metadata": {
        "id": "zPQeX-KqSIdC"
      },
      "execution_count": null,
      "outputs": []
    },
    {
      "cell_type": "code",
      "source": [
        "loan_data_strings[:,3]\n"
      ],
      "metadata": {
        "colab": {
          "base_uri": "https://localhost:8080/"
        },
        "id": "5Ss2lXKBSppy",
        "outputId": "1fdee86d-3cd4-43a9-cccb-b3353b31d870"
      },
      "execution_count": null,
      "outputs": [
        {
          "output_type": "execute_result",
          "data": {
            "text/plain": [
              "array(['C3', 'A5', 'B5', ..., 'A5', 'D2', 'A4'], dtype='<U69')"
            ]
          },
          "metadata": {},
          "execution_count": 52
        }
      ]
    },
    {
      "cell_type": "code",
      "source": [
        "header_strings = np.delete(header_strings, 3)"
      ],
      "metadata": {
        "id": "cpC71eTaTmT9"
      },
      "execution_count": null,
      "outputs": []
    },
    {
      "cell_type": "code",
      "source": [
        "header_strings[3]"
      ],
      "metadata": {
        "colab": {
          "base_uri": "https://localhost:8080/",
          "height": 35
        },
        "id": "RBqdQ-BNTnxD",
        "outputId": "8a7bedb5-7480-4b51-bbde-c8cdc2bf65c7"
      },
      "execution_count": null,
      "outputs": [
        {
          "output_type": "execute_result",
          "data": {
            "text/plain": [
              "'sub_grade'"
            ],
            "application/vnd.google.colaboratory.intrinsic+json": {
              "type": "string"
            }
          },
          "metadata": {},
          "execution_count": 54
        }
      ]
    },
    {
      "cell_type": "markdown",
      "source": [
        "# **Converting Sub Grade**"
      ],
      "metadata": {
        "id": "38tMNs8bT1SM"
      }
    },
    {
      "cell_type": "code",
      "source": [
        "np.unique(loan_data_strings[:,3])"
      ],
      "metadata": {
        "colab": {
          "base_uri": "https://localhost:8080/"
        },
        "id": "fCCfPr0ETveJ",
        "outputId": "2b3f204f-e7a3-49ed-9cfe-cfc9d735a8ea"
      },
      "execution_count": null,
      "outputs": [
        {
          "output_type": "execute_result",
          "data": {
            "text/plain": [
              "array(['A1', 'A2', 'A3', 'A4', 'A5', 'B1', 'B2', 'B3', 'B4', 'B5', 'C1', 'C2', 'C3', 'C4', 'C5',\n",
              "       'D1', 'D2', 'D3', 'D4', 'D5', 'E1', 'E2', 'E3', 'E4', 'E5', 'F1', 'F2', 'F3', 'F4', 'F5',\n",
              "       'G1', 'G2', 'G3', 'G4', 'G5', 'H1'], dtype='<U69')"
            ]
          },
          "metadata": {},
          "execution_count": 55
        }
      ]
    },
    {
      "cell_type": "code",
      "source": [
        "keys = list(np.unique(loan_data_strings[:,3]))\n",
        "values = list(range(1, np.unique(loan_data_strings[:,3]).shape[0] + 1))\n",
        "dict_sub_grade = dict(zip(keys, values))"
      ],
      "metadata": {
        "id": "_fkROBgnWvg1"
      },
      "execution_count": null,
      "outputs": []
    },
    {
      "cell_type": "code",
      "source": [
        "dict_sub_grade"
      ],
      "metadata": {
        "colab": {
          "base_uri": "https://localhost:8080/"
        },
        "id": "8gZqngsHXS9q",
        "outputId": "0e9a6bd1-b917-4924-9134-70adafe56b63"
      },
      "execution_count": null,
      "outputs": [
        {
          "output_type": "execute_result",
          "data": {
            "text/plain": [
              "{'A1': 1,\n",
              " 'A2': 2,\n",
              " 'A3': 3,\n",
              " 'A4': 4,\n",
              " 'A5': 5,\n",
              " 'B1': 6,\n",
              " 'B2': 7,\n",
              " 'B3': 8,\n",
              " 'B4': 9,\n",
              " 'B5': 10,\n",
              " 'C1': 11,\n",
              " 'C2': 12,\n",
              " 'C3': 13,\n",
              " 'C4': 14,\n",
              " 'C5': 15,\n",
              " 'D1': 16,\n",
              " 'D2': 17,\n",
              " 'D3': 18,\n",
              " 'D4': 19,\n",
              " 'D5': 20,\n",
              " 'E1': 21,\n",
              " 'E2': 22,\n",
              " 'E3': 23,\n",
              " 'E4': 24,\n",
              " 'E5': 25,\n",
              " 'F1': 26,\n",
              " 'F2': 27,\n",
              " 'F3': 28,\n",
              " 'F4': 29,\n",
              " 'F5': 30,\n",
              " 'G1': 31,\n",
              " 'G2': 32,\n",
              " 'G3': 33,\n",
              " 'G4': 34,\n",
              " 'G5': 35,\n",
              " 'H1': 36}"
            ]
          },
          "metadata": {},
          "execution_count": 57
        }
      ]
    },
    {
      "cell_type": "code",
      "source": [
        "for i in np.unique(loan_data_strings[:,3]):\n",
        "  loan_data_strings[:,3] = np.where(loan_data_strings[:,3] == i,\n",
        "                                    dict_sub_grade[i],\n",
        "                                    loan_data_strings[:,3])\n"
      ],
      "metadata": {
        "id": "At27hmXUXWpU"
      },
      "execution_count": null,
      "outputs": []
    },
    {
      "cell_type": "code",
      "source": [
        "np.unique(loan_data_strings[:,3])"
      ],
      "metadata": {
        "colab": {
          "base_uri": "https://localhost:8080/"
        },
        "id": "LsBJ6GSCX8qT",
        "outputId": "9450350c-8d7e-4853-daaa-a9afbec52717"
      },
      "execution_count": null,
      "outputs": [
        {
          "output_type": "execute_result",
          "data": {
            "text/plain": [
              "array(['1', '10', '11', '12', '13', '14', '15', '16', '17', '18', '19', '2', '20', '21', '22',\n",
              "       '23', '24', '25', '26', '27', '28', '29', '3', '30', '31', '32', '33', '34', '35', '36',\n",
              "       '4', '5', '6', '7', '8', '9'], dtype='<U69')"
            ]
          },
          "metadata": {},
          "execution_count": 59
        }
      ]
    },
    {
      "cell_type": "markdown",
      "source": [
        "# **Verification Status**"
      ],
      "metadata": {
        "id": "yfsjSyD7dipU"
      }
    },
    {
      "cell_type": "code",
      "source": [
        "header_strings"
      ],
      "metadata": {
        "colab": {
          "base_uri": "https://localhost:8080/"
        },
        "id": "3NGiD5ulYDYs",
        "outputId": "404838dd-c1a2-43d0-fdf7-73cbe8e58b34"
      },
      "execution_count": null,
      "outputs": [
        {
          "output_type": "execute_result",
          "data": {
            "text/plain": [
              "array(['issue_date', 'loan_status', 'term_months', 'sub_grade', 'verification_status', 'url',\n",
              "       'addr_state'], dtype='<U19')"
            ]
          },
          "metadata": {},
          "execution_count": 60
        }
      ]
    },
    {
      "cell_type": "code",
      "source": [
        "np.unique(loan_data_strings[:,4])"
      ],
      "metadata": {
        "colab": {
          "base_uri": "https://localhost:8080/"
        },
        "id": "RwAfIFM7dp22",
        "outputId": "88126ee6-2687-4e93-b220-2d1e9a54696e"
      },
      "execution_count": null,
      "outputs": [
        {
          "output_type": "execute_result",
          "data": {
            "text/plain": [
              "array(['', 'Not Verified', 'Source Verified', 'Verified'], dtype='<U69')"
            ]
          },
          "metadata": {},
          "execution_count": 61
        }
      ]
    },
    {
      "cell_type": "code",
      "source": [
        "loan_data_strings[:,4] = np.where((loan_data_strings[:,4] == '') | (loan_data_strings[:,4] == 'Not Verified'), 0, 1)"
      ],
      "metadata": {
        "id": "UoL9XdxwdvRX"
      },
      "execution_count": null,
      "outputs": []
    },
    {
      "cell_type": "code",
      "source": [
        "np.unique(loan_data_strings[:,4])"
      ],
      "metadata": {
        "colab": {
          "base_uri": "https://localhost:8080/"
        },
        "id": "4Faeffj9ebUJ",
        "outputId": "b4bdc231-f317-401b-e970-c7eaf35b967a"
      },
      "execution_count": null,
      "outputs": [
        {
          "output_type": "execute_result",
          "data": {
            "text/plain": [
              "array(['0', '1'], dtype='<U69')"
            ]
          },
          "metadata": {},
          "execution_count": 63
        }
      ]
    },
    {
      "cell_type": "markdown",
      "source": [
        "# **URL**"
      ],
      "metadata": {
        "id": "aG30jjBdeidh"
      }
    },
    {
      "cell_type": "code",
      "source": [
        "loan_data_strings[:,5]"
      ],
      "metadata": {
        "colab": {
          "base_uri": "https://localhost:8080/"
        },
        "id": "AoisE0G1ee0C",
        "outputId": "3ea45526-aaa5-4720-a609-dd657dc0e5a0"
      },
      "execution_count": null,
      "outputs": [
        {
          "output_type": "execute_result",
          "data": {
            "text/plain": [
              "array(['https://www.lendingclub.com/browse/loanDetail.action?loan_id=48010226',\n",
              "       'https://www.lendingclub.com/browse/loanDetail.action?loan_id=57693261',\n",
              "       'https://www.lendingclub.com/browse/loanDetail.action?loan_id=59432726', ...,\n",
              "       'https://www.lendingclub.com/browse/loanDetail.action?loan_id=50415990',\n",
              "       'https://www.lendingclub.com/browse/loanDetail.action?loan_id=46154151',\n",
              "       'https://www.lendingclub.com/browse/loanDetail.action?loan_id=66055249'], dtype='<U69')"
            ]
          },
          "metadata": {},
          "execution_count": 64
        }
      ]
    },
    {
      "cell_type": "code",
      "source": [
        "np.chararray.strip(loan_data_strings[:,5], \"https://www.lendingclub.com/browse/loanDetail.action?loan_id=\")"
      ],
      "metadata": {
        "colab": {
          "base_uri": "https://localhost:8080/"
        },
        "id": "n3pQaLUThEPp",
        "outputId": "8d15acc3-8335-41f2-a983-7e9c7655a38c"
      },
      "execution_count": null,
      "outputs": [
        {
          "output_type": "execute_result",
          "data": {
            "text/plain": [
              "chararray(['48010226', '57693261', '59432726', ..., '50415990', '46154151', '66055249'],\n",
              "          dtype='<U69')"
            ]
          },
          "metadata": {},
          "execution_count": 65
        }
      ]
    },
    {
      "cell_type": "code",
      "source": [
        "loan_data_strings[:,5] = np.chararray.strip(loan_data_strings[:,5], \"https://www.lendingclub.com/browse/loanDetail.action?loan_id=\")"
      ],
      "metadata": {
        "id": "hMtHxrIChd3Y"
      },
      "execution_count": null,
      "outputs": []
    },
    {
      "cell_type": "code",
      "source": [
        "header_full"
      ],
      "metadata": {
        "colab": {
          "base_uri": "https://localhost:8080/"
        },
        "id": "CRVZLczFhw5Q",
        "outputId": "00e5f9e2-ab83-4031-e26a-8cd15425ae48"
      },
      "execution_count": null,
      "outputs": [
        {
          "output_type": "execute_result",
          "data": {
            "text/plain": [
              "array(['id', 'issue_d', 'loan_amnt', 'loan_status', 'funded_amnt', 'term', 'int_rate',\n",
              "       'installment', 'grade', 'sub_grade', 'verification_status', 'url', 'addr_state',\n",
              "       'total_pymnt'], dtype='<U19')"
            ]
          },
          "metadata": {},
          "execution_count": 67
        }
      ]
    },
    {
      "cell_type": "code",
      "source": [
        "loan_data_numeric[:,0]"
      ],
      "metadata": {
        "colab": {
          "base_uri": "https://localhost:8080/"
        },
        "id": "Hr1bLPw7h2sq",
        "outputId": "2609d164-c5bc-4bda-cffb-baa4cf1ef4a8"
      },
      "execution_count": null,
      "outputs": [
        {
          "output_type": "execute_result",
          "data": {
            "text/plain": [
              "array([48010226., 57693261., 59432726., ..., 50415990., 46154151., 66055249.])"
            ]
          },
          "metadata": {},
          "execution_count": 68
        }
      ]
    },
    {
      "cell_type": "code",
      "source": [
        "loan_data_numeric[:,0].astype(dtype = np.int32)"
      ],
      "metadata": {
        "colab": {
          "base_uri": "https://localhost:8080/"
        },
        "id": "shck1k6giE6p",
        "outputId": "41c99455-4ba0-4687-8b82-6dc22a8ae9e1"
      },
      "execution_count": null,
      "outputs": [
        {
          "output_type": "execute_result",
          "data": {
            "text/plain": [
              "array([48010226, 57693261, 59432726, ..., 50415990, 46154151, 66055249], dtype=int32)"
            ]
          },
          "metadata": {},
          "execution_count": 69
        }
      ]
    },
    {
      "cell_type": "code",
      "source": [
        "loan_data_strings[:,5].astype(dtype = np.int32)"
      ],
      "metadata": {
        "colab": {
          "base_uri": "https://localhost:8080/"
        },
        "id": "WyzuVSaqihAk",
        "outputId": "5a75cb71-3a16-4846-d712-b9a3d01e63a3"
      },
      "execution_count": null,
      "outputs": [
        {
          "output_type": "execute_result",
          "data": {
            "text/plain": [
              "array([48010226, 57693261, 59432726, ..., 50415990, 46154151, 66055249], dtype=int32)"
            ]
          },
          "metadata": {},
          "execution_count": 70
        }
      ]
    },
    {
      "cell_type": "code",
      "source": [
        "np.array_equal(loan_data_strings[:,5].astype(dtype = np.int32), loan_data_numeric[:,0].astype(dtype = np.int32))"
      ],
      "metadata": {
        "colab": {
          "base_uri": "https://localhost:8080/"
        },
        "id": "EVU0qK6Xim7l",
        "outputId": "e672f002-4d78-4c10-8163-fb88047dfcbc"
      },
      "execution_count": null,
      "outputs": [
        {
          "output_type": "execute_result",
          "data": {
            "text/plain": [
              "True"
            ]
          },
          "metadata": {},
          "execution_count": 71
        }
      ]
    },
    {
      "cell_type": "code",
      "source": [
        "loan_data_strings = np.delete(loan_data_strings, 5, axis = 1)\n",
        "header_strings = np.delete(header_strings, 5)"
      ],
      "metadata": {
        "id": "c218KAzOiwN1"
      },
      "execution_count": null,
      "outputs": []
    },
    {
      "cell_type": "code",
      "source": [
        "loan_data_strings[:,5]"
      ],
      "metadata": {
        "colab": {
          "base_uri": "https://localhost:8080/"
        },
        "id": "ebAlbU3hjVSc",
        "outputId": "3796109b-41cb-41d4-93b3-e3449d805412"
      },
      "execution_count": null,
      "outputs": [
        {
          "output_type": "execute_result",
          "data": {
            "text/plain": [
              "array(['CA', 'NY', 'PA', ..., 'CA', 'OH', 'IL'], dtype='<U69')"
            ]
          },
          "metadata": {},
          "execution_count": 73
        }
      ]
    },
    {
      "cell_type": "code",
      "source": [
        "header_strings"
      ],
      "metadata": {
        "colab": {
          "base_uri": "https://localhost:8080/"
        },
        "id": "Ymj1nRIvjZ9n",
        "outputId": "9e839902-2d5c-4505-d997-5ab1f3d1c0b3"
      },
      "execution_count": null,
      "outputs": [
        {
          "output_type": "execute_result",
          "data": {
            "text/plain": [
              "array(['issue_date', 'loan_status', 'term_months', 'sub_grade', 'verification_status',\n",
              "       'addr_state'], dtype='<U19')"
            ]
          },
          "metadata": {},
          "execution_count": 74
        }
      ]
    },
    {
      "cell_type": "markdown",
      "source": [
        "# **State Address**"
      ],
      "metadata": {
        "id": "hxL37NDaBhc0"
      }
    },
    {
      "cell_type": "code",
      "source": [
        " loan_data_strings[:,5]"
      ],
      "metadata": {
        "colab": {
          "base_uri": "https://localhost:8080/"
        },
        "id": "DVRfk9-mjjen",
        "outputId": "be04b114-b3ef-470d-b7c1-c39cee95149a"
      },
      "execution_count": null,
      "outputs": [
        {
          "output_type": "execute_result",
          "data": {
            "text/plain": [
              "array(['CA', 'NY', 'PA', ..., 'CA', 'OH', 'IL'], dtype='<U69')"
            ]
          },
          "metadata": {},
          "execution_count": 75
        }
      ]
    },
    {
      "cell_type": "code",
      "source": [
        "np.unique(loan_data_strings[:,5]).size"
      ],
      "metadata": {
        "colab": {
          "base_uri": "https://localhost:8080/"
        },
        "id": "Su-f-gjMBoxZ",
        "outputId": "cc237ed3-9332-4eca-b9d1-c776f5db56be"
      },
      "execution_count": null,
      "outputs": [
        {
          "output_type": "execute_result",
          "data": {
            "text/plain": [
              "50"
            ]
          },
          "metadata": {},
          "execution_count": 76
        }
      ]
    },
    {
      "cell_type": "code",
      "source": [
        "## See how many times a state shows up\n",
        "np.unique(loan_data_strings[:,5], return_counts = True)"
      ],
      "metadata": {
        "colab": {
          "base_uri": "https://localhost:8080/"
        },
        "id": "XCaabVszCFkq",
        "outputId": "3e905dd8-9c58-4a0e-8eb3-ecda31c91485"
      },
      "execution_count": null,
      "outputs": [
        {
          "output_type": "execute_result",
          "data": {
            "text/plain": [
              "(array(['', 'AK', 'AL', 'AR', 'AZ', 'CA', 'CO', 'CT', 'DC', 'DE', 'FL', 'GA', 'HI', 'IL', 'IN',\n",
              "        'KS', 'KY', 'LA', 'MA', 'MD', 'ME', 'MI', 'MN', 'MO', 'MS', 'MT', 'NC', 'ND', 'NE', 'NH',\n",
              "        'NJ', 'NM', 'NV', 'NY', 'OH', 'OK', 'OR', 'PA', 'RI', 'SC', 'SD', 'TN', 'TX', 'UT', 'VA',\n",
              "        'VT', 'WA', 'WI', 'WV', 'WY'], dtype='<U69'),\n",
              " array([ 500,   26,  119,   74,  220, 1336,  201,  143,   27,   27,  690,  321,   44,  389,  152,\n",
              "          84,   84,  116,  210,  222,   10,  267,  156,  160,   61,   28,  261,   16,   25,   58,\n",
              "         341,   57,  130,  777,  312,   83,  108,  320,   40,  107,   24,  143,  758,   74,  242,\n",
              "          17,  216,  148,   49,   27]))"
            ]
          },
          "metadata": {},
          "execution_count": 77
        }
      ]
    },
    {
      "cell_type": "code",
      "source": [
        "## Sort By Descending\n",
        "state_names, state_counts = np.unique(loan_data_strings[:,5], return_counts = True)\n",
        "state_count_sorted = np.argsort(-state_counts)\n",
        "state_names[state_count_sorted], state_counts[state_count_sorted]"
      ],
      "metadata": {
        "colab": {
          "base_uri": "https://localhost:8080/"
        },
        "id": "Asfi3vnRCYFs",
        "outputId": "e3d9f3e8-44ba-417c-c2d4-46e8c6fe75f7"
      },
      "execution_count": null,
      "outputs": [
        {
          "output_type": "execute_result",
          "data": {
            "text/plain": [
              "(array(['CA', 'NY', 'TX', 'FL', '', 'IL', 'NJ', 'GA', 'PA', 'OH', 'MI', 'NC', 'VA', 'MD', 'AZ',\n",
              "        'WA', 'MA', 'CO', 'MO', 'MN', 'IN', 'WI', 'CT', 'TN', 'NV', 'AL', 'LA', 'OR', 'SC', 'KY',\n",
              "        'KS', 'OK', 'UT', 'AR', 'MS', 'NH', 'NM', 'WV', 'HI', 'RI', 'MT', 'DE', 'DC', 'WY', 'AK',\n",
              "        'NE', 'SD', 'VT', 'ND', 'ME'], dtype='<U69'),\n",
              " array([1336,  777,  758,  690,  500,  389,  341,  321,  320,  312,  267,  261,  242,  222,  220,\n",
              "         216,  210,  201,  160,  156,  152,  148,  143,  143,  130,  119,  116,  108,  107,   84,\n",
              "          84,   83,   74,   74,   61,   58,   57,   49,   44,   40,   28,   27,   27,   27,   26,\n",
              "          25,   24,   17,   16,   10]))"
            ]
          },
          "metadata": {},
          "execution_count": 78
        }
      ]
    },
    {
      "cell_type": "code",
      "source": [
        "loan_data_strings[:,5] = np.where(loan_data_strings[:,5] == '',\n",
        "                                  0,\n",
        "                                  loan_data_strings[:,5])"
      ],
      "metadata": {
        "id": "ufV4prBYCjLF"
      },
      "execution_count": null,
      "outputs": []
    },
    {
      "cell_type": "code",
      "source": [
        "states_west = np.array(['WA', 'OR', 'CA', 'NV', 'ID', 'MT', 'WV','WY', 'UT', 'CO', 'AZ', 'NM', 'HI', 'AK'])\n",
        "states_south = np.array(['TX', 'OK', 'AR', 'LA', 'MS', 'AL', 'TN', 'KY', 'FL', 'GA', 'SC', 'NC', 'VA', 'WV', 'MD', 'DE', 'DC'])\n",
        "states_midwest = np.array(['ND', 'SD', 'NE', 'KS', 'MN', 'IA', 'MO', 'WI', 'IL', 'IN', 'MI', 'OH'])\n",
        "states_east = np.array(['PA', 'NY','NJ', 'CT', 'MA', 'VT', 'NH', 'ME', 'RI'])"
      ],
      "metadata": {
        "id": "yC24_s_NDjwE"
      },
      "execution_count": null,
      "outputs": []
    },
    {
      "cell_type": "code",
      "source": [
        "loan_data_strings[:,5] = np.where(np.isin(loan_data_strings[:,5], states_west), 1, loan_data_strings[:,5])\n",
        "loan_data_strings[:,5] = np.where(np.isin(loan_data_strings[:,5], states_south), 2, loan_data_strings[:,5])\n",
        "loan_data_strings[:,5] = np.where(np.isin(loan_data_strings[:,5], states_midwest), 3, loan_data_strings[:,5])\n",
        "loan_data_strings[:,5] = np.where(np.isin(loan_data_strings[:,5], states_east), 4, loan_data_strings[:,5])"
      ],
      "metadata": {
        "id": "_87TAm5cDq98"
      },
      "execution_count": null,
      "outputs": []
    },
    {
      "cell_type": "code",
      "source": [
        "np.unique(loan_data_strings[:,5])"
      ],
      "metadata": {
        "colab": {
          "base_uri": "https://localhost:8080/"
        },
        "id": "fqzFqvVZK-1y",
        "outputId": "c103c278-5c7b-4dc9-e86c-86aff00a6a64"
      },
      "execution_count": null,
      "outputs": [
        {
          "output_type": "execute_result",
          "data": {
            "text/plain": [
              "array(['0', '1', '2', '3', '4'], dtype='<U69')"
            ]
          },
          "metadata": {},
          "execution_count": 82
        }
      ]
    },
    {
      "cell_type": "markdown",
      "source": [
        "# **Converting To Numbers**"
      ],
      "metadata": {
        "id": "TV4MDPY-LnYf"
      }
    },
    {
      "cell_type": "code",
      "source": [
        "loan_data_strings"
      ],
      "metadata": {
        "colab": {
          "base_uri": "https://localhost:8080/"
        },
        "id": "M55f8uk6LE4D",
        "outputId": "c4a2e387-03df-475c-cbc3-baaccc07d43d"
      },
      "execution_count": null,
      "outputs": [
        {
          "output_type": "execute_result",
          "data": {
            "text/plain": [
              "array([['5', '1', '36', '13', '1', '1'],\n",
              "       ['0', '1', '36', '5', '1', '4'],\n",
              "       ['9', '1', '36', '10', '1', '4'],\n",
              "       ...,\n",
              "       ['6', '1', '36', '5', '1', '1'],\n",
              "       ['4', '1', '36', '17', '1', '3'],\n",
              "       ['12', '1', '36', '4', '0', '3']], dtype='<U69')"
            ]
          },
          "metadata": {},
          "execution_count": 83
        }
      ]
    },
    {
      "cell_type": "code",
      "source": [
        "loan_data_strings = loan_data_strings.astype(dtype = int)"
      ],
      "metadata": {
        "id": "xoDretgzLsQg"
      },
      "execution_count": null,
      "outputs": []
    },
    {
      "cell_type": "code",
      "source": [
        "loan_data_strings"
      ],
      "metadata": {
        "colab": {
          "base_uri": "https://localhost:8080/"
        },
        "id": "LTeZml7zL0KJ",
        "outputId": "ba36e95c-2c4a-4b2c-df99-a97e445cc835"
      },
      "execution_count": null,
      "outputs": [
        {
          "output_type": "execute_result",
          "data": {
            "text/plain": [
              "array([[ 5,  1, 36, 13,  1,  1],\n",
              "       [ 0,  1, 36,  5,  1,  4],\n",
              "       [ 9,  1, 36, 10,  1,  4],\n",
              "       ...,\n",
              "       [ 6,  1, 36,  5,  1,  1],\n",
              "       [ 4,  1, 36, 17,  1,  3],\n",
              "       [12,  1, 36,  4,  0,  3]])"
            ]
          },
          "metadata": {},
          "execution_count": 85
        }
      ]
    },
    {
      "cell_type": "markdown",
      "source": [
        "# **Checkpoint 1:**"
      ],
      "metadata": {
        "id": "_WjVif07Mu_J"
      }
    },
    {
      "cell_type": "code",
      "source": [
        "checkpoint_strings = checkpoint(\"Checkpoint-Strings\", header_strings, loan_data_strings)"
      ],
      "metadata": {
        "id": "OFaolTOaL-iy"
      },
      "execution_count": null,
      "outputs": []
    },
    {
      "cell_type": "code",
      "source": [
        "checkpoint_strings[\"header\"]"
      ],
      "metadata": {
        "colab": {
          "base_uri": "https://localhost:8080/"
        },
        "id": "Lde8OK01M2Wf",
        "outputId": "9dd6f110-b40d-4dd6-a6bf-61f1ab80e6b4"
      },
      "execution_count": null,
      "outputs": [
        {
          "output_type": "execute_result",
          "data": {
            "text/plain": [
              "array(['issue_date', 'loan_status', 'term_months', 'sub_grade', 'verification_status',\n",
              "       'addr_state'], dtype='<U19')"
            ]
          },
          "metadata": {},
          "execution_count": 87
        }
      ]
    },
    {
      "cell_type": "code",
      "source": [
        "checkpoint_strings[\"data\"]"
      ],
      "metadata": {
        "colab": {
          "base_uri": "https://localhost:8080/"
        },
        "id": "0sg73EGFM59F",
        "outputId": "9f434811-bb99-4e39-90af-17281cbe4c86"
      },
      "execution_count": null,
      "outputs": [
        {
          "output_type": "execute_result",
          "data": {
            "text/plain": [
              "array([[ 5,  1, 36, 13,  1,  1],\n",
              "       [ 0,  1, 36,  5,  1,  4],\n",
              "       [ 9,  1, 36, 10,  1,  4],\n",
              "       ...,\n",
              "       [ 6,  1, 36,  5,  1,  1],\n",
              "       [ 4,  1, 36, 17,  1,  3],\n",
              "       [12,  1, 36,  4,  0,  3]])"
            ]
          },
          "metadata": {},
          "execution_count": 88
        }
      ]
    },
    {
      "cell_type": "markdown",
      "source": [
        "# **Manipulating Numeric Columns**"
      ],
      "metadata": {
        "id": "PsPKAR0KPj0k"
      }
    },
    {
      "cell_type": "code",
      "source": [
        "loan_data_numeric"
      ],
      "metadata": {
        "colab": {
          "base_uri": "https://localhost:8080/"
        },
        "id": "ENzP3LkhPnkb",
        "outputId": "624fa15c-0064-4917-e59b-c5bfdc4c1723"
      },
      "execution_count": null,
      "outputs": [
        {
          "output_type": "execute_result",
          "data": {
            "text/plain": [
              "array([[48010226.  ,    35000.  ,    35000.  ,       13.33,     1184.86,     9452.96],\n",
              "       [57693261.  ,    30000.  ,    30000.  , 68616520.  ,      938.57,     4679.7 ],\n",
              "       [59432726.  ,    15000.  ,    15000.  , 68616520.  ,      494.86,     1969.83],\n",
              "       ...,\n",
              "       [50415990.  ,    10000.  ,    10000.  , 68616520.  , 68616520.  ,     2185.64],\n",
              "       [46154151.  , 68616520.  ,    10000.  ,       16.55,      354.3 ,     3199.4 ],\n",
              "       [66055249.  ,    10000.  ,    10000.  , 68616520.  ,      309.97,      301.9 ]])"
            ]
          },
          "metadata": {},
          "execution_count": 89
        }
      ]
    },
    {
      "cell_type": "code",
      "source": [
        "np.isnan(loan_data_numeric).sum()"
      ],
      "metadata": {
        "id": "Vw-jPbYYPrMY",
        "outputId": "1364465a-2977-4a27-95cd-eaf15a1357c5",
        "colab": {
          "base_uri": "https://localhost:8080/"
        }
      },
      "execution_count": null,
      "outputs": [
        {
          "output_type": "execute_result",
          "data": {
            "text/plain": [
              "0"
            ]
          },
          "metadata": {},
          "execution_count": 90
        }
      ]
    },
    {
      "cell_type": "markdown",
      "source": [
        "# **Substitue \"Filler\" Values**"
      ],
      "metadata": {
        "id": "Uf1-MLslse08"
      }
    },
    {
      "cell_type": "code",
      "source": [
        "header_numeric"
      ],
      "metadata": {
        "id": "-USMghwxPvK7",
        "colab": {
          "base_uri": "https://localhost:8080/"
        },
        "outputId": "5ef234fe-e7e8-434c-b5d1-3f749dd7a42d"
      },
      "execution_count": null,
      "outputs": [
        {
          "output_type": "execute_result",
          "data": {
            "text/plain": [
              "array(['id', 'loan_amnt', 'funded_amnt', 'int_rate', 'installment', 'total_pymnt'], dtype='<U19')"
            ]
          },
          "metadata": {},
          "execution_count": 91
        }
      ]
    },
    {
      "cell_type": "markdown",
      "source": [
        "# **ID**"
      ],
      "metadata": {
        "id": "qTMNo_mLstXQ"
      }
    },
    {
      "cell_type": "code",
      "source": [
        "temporary_fill"
      ],
      "metadata": {
        "colab": {
          "base_uri": "https://localhost:8080/"
        },
        "id": "v9kcX9JUsmcW",
        "outputId": "7efac73d-b186-4883-ce79-d034c80bf473"
      },
      "execution_count": null,
      "outputs": [
        {
          "output_type": "execute_result",
          "data": {
            "text/plain": [
              "68616520.0"
            ]
          },
          "metadata": {},
          "execution_count": 92
        }
      ]
    },
    {
      "cell_type": "code",
      "source": [
        "np.isin(loan_data_numeric[:,0], temporary_fill).sum()"
      ],
      "metadata": {
        "colab": {
          "base_uri": "https://localhost:8080/"
        },
        "id": "uv_0dY88spE0",
        "outputId": "74cf9b41-6c2b-4c8d-8775-87e9b9df4055"
      },
      "execution_count": null,
      "outputs": [
        {
          "output_type": "execute_result",
          "data": {
            "text/plain": [
              "0"
            ]
          },
          "metadata": {},
          "execution_count": 93
        }
      ]
    },
    {
      "cell_type": "markdown",
      "source": [
        "# **Temporary stats**"
      ],
      "metadata": {
        "id": "x-4qkrm9tW1E"
      }
    },
    {
      "cell_type": "code",
      "source": [
        "temp_stats[:, column_numeric]"
      ],
      "metadata": {
        "colab": {
          "base_uri": "https://localhost:8080/"
        },
        "id": "_lw3uM3vs9eZ",
        "outputId": "d271db73-169d-44da-b02e-d4da01ad9a4c"
      },
      "execution_count": null,
      "outputs": [
        {
          "output_type": "execute_result",
          "data": {
            "text/plain": [
              "array([[  373332.  ,     1000.  ,     1000.  ,        6.  ,       31.42,        0.  ],\n",
              "       [54015809.19,    15273.46,    15311.04,       16.62,      440.92,     3143.85],\n",
              "       [68616519.  ,    35000.  ,    35000.  ,       28.99,     1372.97,    41913.62]])"
            ]
          },
          "metadata": {},
          "execution_count": 94
        }
      ]
    },
    {
      "cell_type": "markdown",
      "source": [
        "# **Funded Amount**"
      ],
      "metadata": {
        "id": "_No-mX92wi8Q"
      }
    },
    {
      "cell_type": "code",
      "source": [
        "loan_data_numeric[:,2]"
      ],
      "metadata": {
        "colab": {
          "base_uri": "https://localhost:8080/"
        },
        "id": "EkaL3XxUt3_Z",
        "outputId": "780cf730-9361-4fdd-b753-7725ae8d1fef"
      },
      "execution_count": null,
      "outputs": [
        {
          "output_type": "execute_result",
          "data": {
            "text/plain": [
              "array([35000., 30000., 15000., ..., 10000., 10000., 10000.])"
            ]
          },
          "metadata": {},
          "execution_count": 95
        }
      ]
    },
    {
      "cell_type": "code",
      "source": [
        "loan_data_numeric[:,2] = np.where(loan_data_numeric[:,2] == temporary_fill,\n",
        "                                  temp_stats[0, column_numeric[2]],\n",
        "                                  loan_data_numeric[:,2])\n",
        "loan_data_numeric[:,2]"
      ],
      "metadata": {
        "colab": {
          "base_uri": "https://localhost:8080/"
        },
        "id": "GE_Ejsf6ucC4",
        "outputId": "eb37d1c4-e71f-4c0b-e863-0e3f7010567a"
      },
      "execution_count": null,
      "outputs": [
        {
          "output_type": "execute_result",
          "data": {
            "text/plain": [
              "array([35000., 30000., 15000., ..., 10000., 10000., 10000.])"
            ]
          },
          "metadata": {},
          "execution_count": 96
        }
      ]
    },
    {
      "cell_type": "code",
      "source": [
        "temp_stats[0, column_numeric[2]]"
      ],
      "metadata": {
        "colab": {
          "base_uri": "https://localhost:8080/"
        },
        "id": "38DEyebcvJyN",
        "outputId": "f90c2c00-b2a4-4e1c-a602-8db01e8d5f61"
      },
      "execution_count": null,
      "outputs": [
        {
          "output_type": "execute_result",
          "data": {
            "text/plain": [
              "1000.0"
            ]
          },
          "metadata": {},
          "execution_count": 97
        }
      ]
    },
    {
      "cell_type": "markdown",
      "source": [
        "# **Loaned Amount, Interest Rate, Total Payment, Installment**"
      ],
      "metadata": {
        "id": "Tr1GOUNDwIde"
      }
    },
    {
      "cell_type": "code",
      "source": [
        "header_numeric"
      ],
      "metadata": {
        "colab": {
          "base_uri": "https://localhost:8080/"
        },
        "id": "zRKlcEQ2v-gs",
        "outputId": "4c0abd34-6352-4e77-c003-a9982b437799"
      },
      "execution_count": null,
      "outputs": [
        {
          "output_type": "execute_result",
          "data": {
            "text/plain": [
              "array(['id', 'loan_amnt', 'funded_amnt', 'int_rate', 'installment', 'total_pymnt'], dtype='<U19')"
            ]
          },
          "metadata": {},
          "execution_count": 98
        }
      ]
    },
    {
      "cell_type": "code",
      "source": [
        "for i in (1,3,4,5):\n",
        "  loan_data_numeric[:,i] = np.where(loan_data_numeric[:,i] == temporary_fill,\n",
        "                                    temp_stats[2, column_numeric[i]],\n",
        "                                    loan_data_numeric[:,i])"
      ],
      "metadata": {
        "id": "eED_XHVxwuq_"
      },
      "execution_count": null,
      "outputs": []
    },
    {
      "cell_type": "code",
      "source": [
        "loan_data_numeric"
      ],
      "metadata": {
        "colab": {
          "base_uri": "https://localhost:8080/"
        },
        "id": "SxYUgG90xMkm",
        "outputId": "d5d0a6b9-d874-4aae-fdcb-9316cfb2fc63"
      },
      "execution_count": null,
      "outputs": [
        {
          "output_type": "execute_result",
          "data": {
            "text/plain": [
              "array([[48010226.  ,    35000.  ,    35000.  ,       13.33,     1184.86,     9452.96],\n",
              "       [57693261.  ,    30000.  ,    30000.  ,       28.99,      938.57,     4679.7 ],\n",
              "       [59432726.  ,    15000.  ,    15000.  ,       28.99,      494.86,     1969.83],\n",
              "       ...,\n",
              "       [50415990.  ,    10000.  ,    10000.  ,       28.99,     1372.97,     2185.64],\n",
              "       [46154151.  ,    35000.  ,    10000.  ,       16.55,      354.3 ,     3199.4 ],\n",
              "       [66055249.  ,    10000.  ,    10000.  ,       28.99,      309.97,      301.9 ]])"
            ]
          },
          "metadata": {},
          "execution_count": 100
        }
      ]
    },
    {
      "cell_type": "markdown",
      "source": [
        "# **Currency Change**"
      ],
      "metadata": {
        "id": "aSn0iTfQgkPL"
      }
    },
    {
      "cell_type": "markdown",
      "source": [
        "### **Exchange Rate**"
      ],
      "metadata": {
        "id": "hEqe8Zrigtd3"
      }
    },
    {
      "cell_type": "code",
      "source": [
        "EUR_USD = np.genfromtxt(\"/content/EUR-USD.csv\", delimiter = ',', autostrip =  True, skip_header = 1, usecols = 3)\n",
        "EUR_USD"
      ],
      "metadata": {
        "id": "X4y16cIJxSzH",
        "colab": {
          "base_uri": "https://localhost:8080/"
        },
        "outputId": "2e131bb9-fa89-47f7-fa2e-7747c28ad33d"
      },
      "execution_count": null,
      "outputs": [
        {
          "output_type": "execute_result",
          "data": {
            "text/plain": [
              "array([1.13, 1.12, 1.08, 1.11, 1.1 , 1.12, 1.09, 1.13, 1.13, 1.1 , 1.06, 1.09])"
            ]
          },
          "metadata": {},
          "execution_count": 101
        }
      ]
    },
    {
      "cell_type": "code",
      "source": [
        "exchange_rate = loan_data_strings[:,0]\n",
        "\n",
        "for i in range(1,13):\n",
        "  exchange_rate = np.where(exchange_rate == i,\n",
        "                           EUR_USD[i-1],\n",
        "                           exchange_rate)\n",
        "\n",
        "\n",
        "exchange_rate = np.where(exchange_rate == 0,\n",
        "                         np.mean(EUR_USD),\n",
        "                         exchange_rate)\n",
        "\n",
        "exchange_rate"
      ],
      "metadata": {
        "colab": {
          "base_uri": "https://localhost:8080/"
        },
        "id": "eiFg2p0zgooX",
        "outputId": "d9e03ae5-0874-4e73-8a31-1769191b274e"
      },
      "execution_count": null,
      "outputs": [
        {
          "output_type": "execute_result",
          "data": {
            "text/plain": [
              "array([1.1 , 1.11, 1.13, ..., 1.12, 1.11, 1.09])"
            ]
          },
          "metadata": {},
          "execution_count": 102
        }
      ]
    },
    {
      "cell_type": "code",
      "source": [
        "exchange_rate.shape"
      ],
      "metadata": {
        "colab": {
          "base_uri": "https://localhost:8080/"
        },
        "id": "cx82TU-iilOe",
        "outputId": "2d2cd8e0-45e3-47b9-ff1d-2f473b022cb8"
      },
      "execution_count": null,
      "outputs": [
        {
          "output_type": "execute_result",
          "data": {
            "text/plain": [
              "(10000,)"
            ]
          },
          "metadata": {},
          "execution_count": 103
        }
      ]
    },
    {
      "cell_type": "code",
      "source": [
        "loan_data_numeric.shape"
      ],
      "metadata": {
        "colab": {
          "base_uri": "https://localhost:8080/"
        },
        "id": "VbqkvMyWiqNF",
        "outputId": "0ebdd699-79f2-41f0-e59d-d94aef58b181"
      },
      "execution_count": null,
      "outputs": [
        {
          "output_type": "execute_result",
          "data": {
            "text/plain": [
              "(10000, 6)"
            ]
          },
          "metadata": {},
          "execution_count": 104
        }
      ]
    },
    {
      "cell_type": "code",
      "source": [
        "exchange_rate = np.reshape(exchange_rate, (10000, 1))"
      ],
      "metadata": {
        "id": "7CdxpKjcito1"
      },
      "execution_count": null,
      "outputs": []
    },
    {
      "cell_type": "code",
      "source": [
        "loan_data_numeric = np.hstack((loan_data_numeric, exchange_rate))"
      ],
      "metadata": {
        "id": "bFWJBxA0oEpt"
      },
      "execution_count": null,
      "outputs": []
    },
    {
      "cell_type": "code",
      "source": [
        "loan_data_numeric"
      ],
      "metadata": {
        "colab": {
          "base_uri": "https://localhost:8080/"
        },
        "id": "8xiG027joSbG",
        "outputId": "a4b9899d-25bb-4866-c446-6ec4c97a3f3e"
      },
      "execution_count": null,
      "outputs": [
        {
          "output_type": "execute_result",
          "data": {
            "text/plain": [
              "array([[48010226.  ,    35000.  ,    35000.  , ...,     1184.86,     9452.96,        1.1 ],\n",
              "       [57693261.  ,    30000.  ,    30000.  , ...,      938.57,     4679.7 ,        1.11],\n",
              "       [59432726.  ,    15000.  ,    15000.  , ...,      494.86,     1969.83,        1.13],\n",
              "       ...,\n",
              "       [50415990.  ,    10000.  ,    10000.  , ...,     1372.97,     2185.64,        1.12],\n",
              "       [46154151.  ,    35000.  ,    10000.  , ...,      354.3 ,     3199.4 ,        1.11],\n",
              "       [66055249.  ,    10000.  ,    10000.  , ...,      309.97,      301.9 ,        1.09]])"
            ]
          },
          "metadata": {},
          "execution_count": 107
        }
      ]
    },
    {
      "cell_type": "code",
      "source": [
        "header_numeric = np.concatenate((header_numeric, np.array(['exchange_rate'])))\n",
        "header_numeric"
      ],
      "metadata": {
        "colab": {
          "base_uri": "https://localhost:8080/"
        },
        "id": "MbeVZIEhoXz3",
        "outputId": "f539d1a0-acbf-4164-8963-a28200c4a71c"
      },
      "execution_count": null,
      "outputs": [
        {
          "output_type": "execute_result",
          "data": {
            "text/plain": [
              "array(['id', 'loan_amnt', 'funded_amnt', 'int_rate', 'installment', 'total_pymnt', 'exchange_rate'],\n",
              "      dtype='<U19')"
            ]
          },
          "metadata": {},
          "execution_count": 108
        }
      ]
    },
    {
      "cell_type": "markdown",
      "source": [
        "# **From USD to EUR**"
      ],
      "metadata": {
        "id": "yqURE4Tr08hR"
      }
    },
    {
      "cell_type": "code",
      "source": [
        "header_numeric"
      ],
      "metadata": {
        "colab": {
          "base_uri": "https://localhost:8080/"
        },
        "id": "6Wo8BB0uoaR2",
        "outputId": "a0d7891a-cea9-4130-f527-43ce756e7eee"
      },
      "execution_count": null,
      "outputs": [
        {
          "output_type": "execute_result",
          "data": {
            "text/plain": [
              "array(['id', 'loan_amnt', 'funded_amnt', 'int_rate', 'installment', 'total_pymnt', 'exchange_rate'],\n",
              "      dtype='<U19')"
            ]
          },
          "metadata": {},
          "execution_count": 109
        }
      ]
    },
    {
      "cell_type": "code",
      "source": [
        "columns_dollars = np.array([1,2,4,5])"
      ],
      "metadata": {
        "id": "LI-TGJm51JFl"
      },
      "execution_count": null,
      "outputs": []
    },
    {
      "cell_type": "code",
      "source": [
        "loan_data_numeric[:,[columns_dollars]]"
      ],
      "metadata": {
        "colab": {
          "base_uri": "https://localhost:8080/"
        },
        "id": "Zf6oDi7gq38a",
        "outputId": "d6f1e753-4548-459d-c30b-e5c9c0fa8d0a"
      },
      "execution_count": null,
      "outputs": [
        {
          "output_type": "execute_result",
          "data": {
            "text/plain": [
              "array([[[35000.  , 35000.  ,  1184.86,  9452.96]],\n",
              "\n",
              "       [[30000.  , 30000.  ,   938.57,  4679.7 ]],\n",
              "\n",
              "       [[15000.  , 15000.  ,   494.86,  1969.83]],\n",
              "\n",
              "       ...,\n",
              "\n",
              "       [[10000.  , 10000.  ,  1372.97,  2185.64]],\n",
              "\n",
              "       [[35000.  , 10000.  ,   354.3 ,  3199.4 ]],\n",
              "\n",
              "       [[10000.  , 10000.  ,   309.97,   301.9 ]]])"
            ]
          },
          "metadata": {},
          "execution_count": 111
        }
      ]
    },
    {
      "cell_type": "code",
      "source": [
        "loan_data_numeric[:,6]"
      ],
      "metadata": {
        "colab": {
          "base_uri": "https://localhost:8080/"
        },
        "id": "2z9yqIK8q_xx",
        "outputId": "5128f09c-7532-4183-dfc8-4821e84d607f"
      },
      "execution_count": null,
      "outputs": [
        {
          "output_type": "execute_result",
          "data": {
            "text/plain": [
              "array([1.1 , 1.11, 1.13, ..., 1.12, 1.11, 1.09])"
            ]
          },
          "metadata": {},
          "execution_count": 112
        }
      ]
    },
    {
      "cell_type": "code",
      "source": [
        "for i in columns_dollars:\n",
        "    loan_data_numeric = np.hstack((loan_data_numeric, np.reshape(loan_data_numeric[:,i] / loan_data_numeric[:,6], (10000,1))))"
      ],
      "metadata": {
        "id": "leTlfC7YrWtX"
      },
      "execution_count": null,
      "outputs": []
    },
    {
      "cell_type": "code",
      "source": [
        "loan_data_numeric.shape"
      ],
      "metadata": {
        "colab": {
          "base_uri": "https://localhost:8080/"
        },
        "id": "SUCm7y0MsASm",
        "outputId": "f556520f-01ec-4da4-e83b-a461a106e249"
      },
      "execution_count": null,
      "outputs": [
        {
          "output_type": "execute_result",
          "data": {
            "text/plain": [
              "(10000, 11)"
            ]
          },
          "metadata": {},
          "execution_count": 114
        }
      ]
    },
    {
      "cell_type": "markdown",
      "source": [
        "### **Expanding Header**"
      ],
      "metadata": {
        "id": "Y29imMH4sNye"
      }
    },
    {
      "cell_type": "code",
      "source": [
        "header_additional = np.array([column_name + 'EUR' for column_name in header_numeric[columns_dollars]])"
      ],
      "metadata": {
        "id": "MlzJS5IZsBz3"
      },
      "execution_count": null,
      "outputs": []
    },
    {
      "cell_type": "code",
      "source": [
        "header_additional"
      ],
      "metadata": {
        "colab": {
          "base_uri": "https://localhost:8080/"
        },
        "id": "Z_rDNcvbsh9O",
        "outputId": "f8a36242-0f89-42a4-aca9-24064f7f53ab"
      },
      "execution_count": null,
      "outputs": [
        {
          "output_type": "execute_result",
          "data": {
            "text/plain": [
              "array(['loan_amntEUR', 'funded_amntEUR', 'installmentEUR', 'total_pymntEUR'], dtype='<U14')"
            ]
          },
          "metadata": {},
          "execution_count": 116
        }
      ]
    },
    {
      "cell_type": "code",
      "source": [
        "header_numeric = np.concatenate((header_numeric, header_additional))"
      ],
      "metadata": {
        "id": "-kcSKbZuslgs"
      },
      "execution_count": null,
      "outputs": []
    },
    {
      "cell_type": "code",
      "source": [
        "header_numeric"
      ],
      "metadata": {
        "colab": {
          "base_uri": "https://localhost:8080/"
        },
        "id": "09QUrokAs0em",
        "outputId": "ed562125-e0c9-42bf-c877-6a0ea8a19b9f"
      },
      "execution_count": null,
      "outputs": [
        {
          "output_type": "execute_result",
          "data": {
            "text/plain": [
              "array(['id', 'loan_amnt', 'funded_amnt', 'int_rate', 'installment', 'total_pymnt', 'exchange_rate',\n",
              "       'loan_amntEUR', 'funded_amntEUR', 'installmentEUR', 'total_pymntEUR'], dtype='<U19')"
            ]
          },
          "metadata": {},
          "execution_count": 118
        }
      ]
    },
    {
      "cell_type": "code",
      "source": [
        "header_numeric[columns_dollars] = np.array([column_name + 'USD' for column_name in header_numeric[columns_dollars]])\n",
        "header_numeric"
      ],
      "metadata": {
        "colab": {
          "base_uri": "https://localhost:8080/"
        },
        "id": "0xK33bR7s5jU",
        "outputId": "99ceb995-1de9-4ef1-ffe4-9a472b060f14"
      },
      "execution_count": null,
      "outputs": [
        {
          "output_type": "execute_result",
          "data": {
            "text/plain": [
              "array(['id', 'loan_amntUSD', 'funded_amntUSD', 'int_rate', 'installmentUSD', 'total_pymntUSD',\n",
              "       'exchange_rate', 'loan_amntEUR', 'funded_amntEUR', 'installmentEUR', 'total_pymntEUR'],\n",
              "      dtype='<U19')"
            ]
          },
          "metadata": {},
          "execution_count": 120
        }
      ]
    },
    {
      "cell_type": "code",
      "source": [
        "columns_index_order = [0,1,7,2,8,3,4,9,5,10,6]"
      ],
      "metadata": {
        "id": "pYQgKKIiOH9B"
      },
      "execution_count": null,
      "outputs": []
    },
    {
      "cell_type": "code",
      "source": [
        "header_numeric[columns_index_order]"
      ],
      "metadata": {
        "colab": {
          "base_uri": "https://localhost:8080/"
        },
        "id": "RCXDajphPGz3",
        "outputId": "b43517fc-ca35-4a26-8c20-44726f169930"
      },
      "execution_count": null,
      "outputs": [
        {
          "output_type": "execute_result",
          "data": {
            "text/plain": [
              "array(['id', 'loan_amntUSD', 'loan_amntEUR', 'funded_amntUSD', 'funded_amntEUR', 'int_rate',\n",
              "       'installmentUSD', 'installmentEUR', 'total_pymntUSD', 'total_pymntEUR', 'exchange_rate'],\n",
              "      dtype='<U19')"
            ]
          },
          "metadata": {},
          "execution_count": 122
        }
      ]
    },
    {
      "cell_type": "code",
      "source": [
        "header_numeric = header_numeric[columns_index_order]"
      ],
      "metadata": {
        "id": "L4BiWxNZPMTH"
      },
      "execution_count": null,
      "outputs": []
    },
    {
      "cell_type": "code",
      "source": [
        "loan_data_numeric"
      ],
      "metadata": {
        "colab": {
          "base_uri": "https://localhost:8080/"
        },
        "id": "BnJZRu_LPeAS",
        "outputId": "7597ef55-fc4d-4dfb-93de-1450c94e1f1b"
      },
      "execution_count": null,
      "outputs": [
        {
          "output_type": "execute_result",
          "data": {
            "text/plain": [
              "array([[48010226.  ,    35000.  ,    35000.  , ...,    31933.3 ,     1081.04,     8624.69],\n",
              "       [57693261.  ,    30000.  ,    30000.  , ...,    27132.46,      848.86,     4232.39],\n",
              "       [59432726.  ,    15000.  ,    15000.  , ...,    13326.3 ,      439.64,     1750.04],\n",
              "       ...,\n",
              "       [50415990.  ,    10000.  ,    10000.  , ...,     8910.3 ,     1223.36,     1947.47],\n",
              "       [46154151.  ,    35000.  ,    10000.  , ...,     8997.4 ,      318.78,     2878.63],\n",
              "       [66055249.  ,    10000.  ,    10000.  , ...,     9145.8 ,      283.49,      276.11]])"
            ]
          },
          "metadata": {},
          "execution_count": 124
        }
      ]
    },
    {
      "cell_type": "code",
      "source": [
        "loan_data_numeric = loan_data_numeric[:,columns_index_order]"
      ],
      "metadata": {
        "id": "-Dj_w29HPgIu"
      },
      "execution_count": null,
      "outputs": []
    },
    {
      "cell_type": "markdown",
      "source": [
        "# **Interest Rates**"
      ],
      "metadata": {
        "id": "BZK1ALP7QQPX"
      }
    },
    {
      "cell_type": "code",
      "source": [
        "loan_data_numeric[:,5]"
      ],
      "metadata": {
        "colab": {
          "base_uri": "https://localhost:8080/"
        },
        "id": "Cye5yME5PpL-",
        "outputId": "09a93bd8-3502-440a-e22c-86ef2162048f"
      },
      "execution_count": null,
      "outputs": [
        {
          "output_type": "execute_result",
          "data": {
            "text/plain": [
              "array([13.33, 28.99, 28.99, ..., 28.99, 16.55, 28.99])"
            ]
          },
          "metadata": {},
          "execution_count": 126
        }
      ]
    },
    {
      "cell_type": "code",
      "source": [
        "loan_data_numeric[:,5] / 100"
      ],
      "metadata": {
        "colab": {
          "base_uri": "https://localhost:8080/"
        },
        "id": "PoPTd2ZHQS9V",
        "outputId": "487001b8-0176-4424-d5f5-84ae40515dcc"
      },
      "execution_count": null,
      "outputs": [
        {
          "output_type": "execute_result",
          "data": {
            "text/plain": [
              "array([0.13, 0.29, 0.29, ..., 0.29, 0.17, 0.29])"
            ]
          },
          "metadata": {},
          "execution_count": 127
        }
      ]
    },
    {
      "cell_type": "code",
      "source": [
        "loan_data_numeric[:,5] = loan_data_numeric[:,5] / 100"
      ],
      "metadata": {
        "id": "IwY791G8QajC"
      },
      "execution_count": null,
      "outputs": []
    },
    {
      "cell_type": "markdown",
      "source": [
        "# **Checkpoint 2: Numeric**"
      ],
      "metadata": {
        "id": "kmVMmW6HSURU"
      }
    },
    {
      "cell_type": "code",
      "source": [
        "checkpoint_numeric = checkpoint(\"Checkpoint-Numeric\", header_numeric, loan_data_numeric)"
      ],
      "metadata": {
        "id": "rUNHrDghQive"
      },
      "execution_count": null,
      "outputs": []
    },
    {
      "cell_type": "code",
      "source": [
        "checkpoint_numeric['header'], checkpoint_numeric['data']"
      ],
      "metadata": {
        "colab": {
          "base_uri": "https://localhost:8080/"
        },
        "id": "2pxP73A0SoOV",
        "outputId": "37b6ce5d-9060-413f-863a-8b2fbaae85b4"
      },
      "execution_count": null,
      "outputs": [
        {
          "output_type": "execute_result",
          "data": {
            "text/plain": [
              "(array(['id', 'loan_amntUSD', 'loan_amntEUR', 'funded_amntUSD', 'funded_amntEUR', 'int_rate',\n",
              "        'installmentUSD', 'installmentEUR', 'total_pymntUSD', 'total_pymntEUR', 'exchange_rate'],\n",
              "       dtype='<U19'),\n",
              " array([[48010226.  ,    35000.  ,    31933.3 , ...,     9452.96,     8624.69,        1.1 ],\n",
              "        [57693261.  ,    30000.  ,    27132.46, ...,     4679.7 ,     4232.39,        1.11],\n",
              "        [59432726.  ,    15000.  ,    13326.3 , ...,     1969.83,     1750.04,        1.13],\n",
              "        ...,\n",
              "        [50415990.  ,    10000.  ,     8910.3 , ...,     2185.64,     1947.47,        1.12],\n",
              "        [46154151.  ,    35000.  ,    31490.9 , ...,     3199.4 ,     2878.63,        1.11],\n",
              "        [66055249.  ,    10000.  ,     9145.8 , ...,      301.9 ,      276.11,        1.09]]))"
            ]
          },
          "metadata": {},
          "execution_count": 130
        }
      ]
    },
    {
      "cell_type": "markdown",
      "source": [
        "# **Combining Numeric & String Data**"
      ],
      "metadata": {
        "id": "jLkm_4Y2S86C"
      }
    },
    {
      "cell_type": "code",
      "source": [
        "checkpoint_strings['data'].shape"
      ],
      "metadata": {
        "colab": {
          "base_uri": "https://localhost:8080/"
        },
        "id": "8yAo0Y-7Szqh",
        "outputId": "92bb5465-2deb-485d-f65a-f5a6464ea650"
      },
      "execution_count": null,
      "outputs": [
        {
          "output_type": "execute_result",
          "data": {
            "text/plain": [
              "(10000, 6)"
            ]
          },
          "metadata": {},
          "execution_count": 132
        }
      ]
    },
    {
      "cell_type": "code",
      "source": [
        "checkpoint_numeric['data'].shape"
      ],
      "metadata": {
        "colab": {
          "base_uri": "https://localhost:8080/"
        },
        "id": "SYex9ZI9TOLh",
        "outputId": "e0f6d960-29fd-4dbb-97e7-240460067442"
      },
      "execution_count": null,
      "outputs": [
        {
          "output_type": "execute_result",
          "data": {
            "text/plain": [
              "(10000, 11)"
            ]
          },
          "metadata": {},
          "execution_count": 133
        }
      ]
    },
    {
      "cell_type": "code",
      "source": [
        " np.hstack((checkpoint_numeric['data'], checkpoint_strings['data'])).shape"
      ],
      "metadata": {
        "colab": {
          "base_uri": "https://localhost:8080/"
        },
        "id": "t3fvrwLATWSa",
        "outputId": "fe593630-6000-48d9-954e-d89d0961b9ba"
      },
      "execution_count": null,
      "outputs": [
        {
          "output_type": "execute_result",
          "data": {
            "text/plain": [
              "(10000, 17)"
            ]
          },
          "metadata": {},
          "execution_count": 140
        }
      ]
    },
    {
      "cell_type": "code",
      "source": [
        "loan_data =  np.hstack((checkpoint_numeric['data'], checkpoint_strings['data']))"
      ],
      "metadata": {
        "id": "535RDhOaT9JG"
      },
      "execution_count": null,
      "outputs": []
    },
    {
      "cell_type": "code",
      "source": [
        "loan_data"
      ],
      "metadata": {
        "colab": {
          "base_uri": "https://localhost:8080/"
        },
        "id": "oPyFCAsaTpAe",
        "outputId": "1198677b-f318-4b7b-8c8c-55922ea33670"
      },
      "execution_count": null,
      "outputs": [
        {
          "output_type": "execute_result",
          "data": {
            "text/plain": [
              "array([[48010226.  ,    35000.  ,    31933.3 , ...,       13.  ,        1.  ,        1.  ],\n",
              "       [57693261.  ,    30000.  ,    27132.46, ...,        5.  ,        1.  ,        4.  ],\n",
              "       [59432726.  ,    15000.  ,    13326.3 , ...,       10.  ,        1.  ,        4.  ],\n",
              "       ...,\n",
              "       [50415990.  ,    10000.  ,     8910.3 , ...,        5.  ,        1.  ,        1.  ],\n",
              "       [46154151.  ,    35000.  ,    31490.9 , ...,       17.  ,        1.  ,        3.  ],\n",
              "       [66055249.  ,    10000.  ,     9145.8 , ...,        4.  ,        0.  ,        3.  ]])"
            ]
          },
          "metadata": {},
          "execution_count": 142
        }
      ]
    },
    {
      "cell_type": "code",
      "source": [
        "np.isnan(loan_data).sum()"
      ],
      "metadata": {
        "colab": {
          "base_uri": "https://localhost:8080/"
        },
        "id": "udrGFSLvTv0f",
        "outputId": "bc16f6ad-ecd4-46ac-97a0-f2112eeb3eb1"
      },
      "execution_count": null,
      "outputs": [
        {
          "output_type": "execute_result",
          "data": {
            "text/plain": [
              "0"
            ]
          },
          "metadata": {},
          "execution_count": 145
        }
      ]
    },
    {
      "cell_type": "code",
      "source": [
        "header_full = np.concatenate((checkpoint_numeric['header'], checkpoint_strings['header']))"
      ],
      "metadata": {
        "id": "GoWXo1ojUJxb"
      },
      "execution_count": null,
      "outputs": []
    },
    {
      "cell_type": "code",
      "source": [
        "header_full\n"
      ],
      "metadata": {
        "colab": {
          "base_uri": "https://localhost:8080/"
        },
        "id": "3OcUDft6UgCn",
        "outputId": "a873a329-eb71-40eb-b44e-8b025ac8b381"
      },
      "execution_count": null,
      "outputs": [
        {
          "output_type": "execute_result",
          "data": {
            "text/plain": [
              "array(['id', 'loan_amntUSD', 'loan_amntEUR', 'funded_amntUSD', 'funded_amntEUR', 'int_rate',\n",
              "       'installmentUSD', 'installmentEUR', 'total_pymntUSD', 'total_pymntEUR', 'exchange_rate',\n",
              "       'issue_date', 'loan_status', 'term_months', 'sub_grade', 'verification_status',\n",
              "       'addr_state'], dtype='<U19')"
            ]
          },
          "metadata": {},
          "execution_count": 151
        }
      ]
    },
    {
      "cell_type": "markdown",
      "source": [
        "# **Sorting Combined Set**"
      ],
      "metadata": {
        "id": "jXSiFNs5WhOv"
      }
    },
    {
      "cell_type": "code",
      "source": [
        "loan_data = loan_data[np.argsort(loan_data[:,0])]"
      ],
      "metadata": {
        "id": "c7STctrHUtvZ"
      },
      "execution_count": null,
      "outputs": []
    },
    {
      "cell_type": "code",
      "source": [
        "loan_data"
      ],
      "metadata": {
        "colab": {
          "base_uri": "https://localhost:8080/"
        },
        "id": "Mmtu6SCYWyXE",
        "outputId": "4f57776a-c486-4bdf-c2d2-b47eeeb6c1ff"
      },
      "execution_count": null,
      "outputs": [
        {
          "output_type": "execute_result",
          "data": {
            "text/plain": [
              "array([[  373332.  ,     9950.  ,     9038.08, ...,       21.  ,        0.  ,        1.  ],\n",
              "       [  575239.  ,    12000.  ,    10900.2 , ...,       25.  ,        1.  ,        2.  ],\n",
              "       [  707689.  ,    10000.  ,     8924.3 , ...,       13.  ,        1.  ,        0.  ],\n",
              "       ...,\n",
              "       [68614880.  ,     5600.  ,     5121.65, ...,        8.  ,        1.  ,        1.  ],\n",
              "       [68615915.  ,     4000.  ,     3658.32, ...,       10.  ,        1.  ,        2.  ],\n",
              "       [68616519.  ,    21600.  ,    19754.93, ...,        3.  ,        0.  ,        2.  ]])"
            ]
          },
          "metadata": {},
          "execution_count": 154
        }
      ]
    },
    {
      "cell_type": "code",
      "source": [
        "np.argsort(loan_data[:,0])"
      ],
      "metadata": {
        "colab": {
          "base_uri": "https://localhost:8080/"
        },
        "id": "mjJHrBtJW0M1",
        "outputId": "0572b08a-7f64-4229-e959-a876065043bb"
      },
      "execution_count": null,
      "outputs": [
        {
          "output_type": "execute_result",
          "data": {
            "text/plain": [
              "array([   0,    1,    2, ..., 9997, 9998, 9999])"
            ]
          },
          "metadata": {},
          "execution_count": 155
        }
      ]
    },
    {
      "cell_type": "markdown",
      "source": [
        "# **Storing Data**"
      ],
      "metadata": {
        "id": "6gnhzAv6W-Vm"
      }
    },
    {
      "cell_type": "code",
      "source": [
        "loan_data = np.vstack((header_full, loan_data))"
      ],
      "metadata": {
        "id": "CCI-eXViW47c"
      },
      "execution_count": null,
      "outputs": []
    },
    {
      "cell_type": "code",
      "source": [
        "np.savetxt(\"Loan_data_preprocessed.csv\",\n",
        "           loan_data,\n",
        "           fmt = \"%s\",\n",
        "           delimiter = ',')"
      ],
      "metadata": {
        "id": "TOhHrmzfXAmV"
      },
      "execution_count": null,
      "outputs": []
    }
  ]
}