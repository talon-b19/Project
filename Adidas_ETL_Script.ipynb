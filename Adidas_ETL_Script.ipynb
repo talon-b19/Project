{
  "nbformat": 4,
  "nbformat_minor": 0,
  "metadata": {
    "colab": {
      "provenance": [],
      "authorship_tag": "ABX9TyNEE1mn4QecDgl0eltIo8T7",
      "include_colab_link": true
    },
    "kernelspec": {
      "name": "python3",
      "display_name": "Python 3"
    },
    "language_info": {
      "name": "python"
    }
  },
  "cells": [
    {
      "cell_type": "markdown",
      "metadata": {
        "id": "view-in-github",
        "colab_type": "text"
      },
      "source": [
        "<a href=\"https://colab.research.google.com/github/talon-b19/Project/blob/main/Adidas_ETL_Script.ipynb\" target=\"_parent\"><img src=\"https://colab.research.google.com/assets/colab-badge.svg\" alt=\"Open In Colab\"/></a>"
      ]
    },
    {
      "cell_type": "code",
      "execution_count": null,
      "metadata": {
        "id": "UYkY3gFylGWj"
      },
      "outputs": [],
      "source": [
        "import pandas as pd\n",
        "import yaml\n",
        "import logging\n",
        "import os\n",
        "from datetime import datetime\n",
        "from sqlalchemy import create_engine, Table, Column, Integer, String, Float, MetaData, DateTime\n",
        "\n",
        "\n",
        "def load_config(file_path):\n",
        "  with open(file_path, 'r') as config_file:\n",
        "    config = yaml.safe_load(config_file)\n",
        "    retun config\n",
        "def write_to_xlsx(file_path, data):\n",
        "  data.to_excel(file_path, index = False)\n",
        "def extract_data(file_path):\n",
        "  selected_columns = ['Retailer ID', 'Retailer', 'Region', 'State', 'City', 'Product', 'Price per Unit', 'Units Sold', 'Total Sales', 'Sales Method', 'Invoice Date']\n",
        "  data = pd.read_excel(file_path, index_col=None, header = 4, usecols= selected_columns)\n",
        "  print(data.columns)\n",
        "  return data\n",
        "def trnasfrom_data(data):\n",
        "  columns_to_round = ['Price per Unit',  'Total Sales,' ]\n",
        "  data[columns_to_round] = data[columns_to_round].round(0),astype(int)\n",
        "\n",
        "  if 'Invoice Date' in data.columns:\n",
        "    data['Invoice Date'] = pd.to_datetime(data['Invoice Date'], errors = 'coerce')\n",
        "    data['Year'] = data['Invoice Date'].dt.year\n",
        "  return\n",
        "    data\n",
        "\n",
        "def configure_logging(log_file_path)\n",
        "logging.basicConfig(\n",
        "    filename=log_file_path.\n",
        "    levbel=logging.INFO,\n",
        "    format='%(asctime)s, - %(levelname)s - %(message)s'\n",
        ")\n",
        "\n",
        "def load_to_database(engine, table_name, data):\n",
        "  data.to_sql(table, engine, if_exists ='replace' index = False)\n",
        "  logging.info(\"ETL process completed\")\n",
        "\n",
        "def create_database_schema(engine):\n",
        "  metadata = MetaData()\n",
        "  Sales_data = Table(\n",
        "      'Sales_data', metadata,\n",
        "      Column('Retailer ID', Integer, primary_key = True)\n",
        "      Column('Retailer', String),\n",
        "      Column('Region', String),\n",
        "      Column('State', String),\n",
        "      Column('City', String),\n",
        "      Column('Product', String),\n",
        "      Column('Price per Unit', FLoat),\n",
        "      Column('Units Sold', Integer),\n",
        "      COlumn('Total Sales', Float),\n",
        "      Column('Invoice Date', DateTime),\n",
        "  )\n",
        "\n",
        "    metadata.create_all(engine)\n",
        "\n",
        "    return metadata\n",
        "\n",
        "if __name__ ==  \"__main__\":\n",
        "  #Load Configuration\n",
        "  config = load_config('config.yaml')\n",
        "  excel_file_path = config['excel_file_path']\n",
        "  log_file_path = config['log_file_path']\n",
        "  db_config = config['db_config']\n",
        "\n",
        "  #Extract\n",
        "  data = extract_data(excel_file_path)\n",
        "\n",
        "  #Transform\n",
        "  transformed_data = transform_data(data)\n",
        "\n",
        "  #Load to CSV\n",
        "  write_to_xlsx('transformed_data.xlsx', transformed_data)\n",
        "\n",
        "  #Configure logging\n",
        "  configure_logging(log_file_path)\n",
        "\n",
        "  #Create database engine\n",
        "  engine = create_engine(\n",
        "      f'postpresql://{db_config[\"user\"]}:{db_config[\"password\"]}@{db_config[\"host\"]}:{db_confifg[\"port\"]}/{db_config[\"database\"]}'\n",
        "  )\n",
        "\n",
        "  #Load to database\n",
        "  load_data_to_database(engine,'Sales_data', transformeed_data)\n",
        "\n"
      ]
    }
  ]
}