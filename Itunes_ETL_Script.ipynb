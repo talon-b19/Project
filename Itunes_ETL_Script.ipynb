{
  "nbformat": 4,
  "nbformat_minor": 0,
  "metadata": {
    "colab": {
      "provenance": [],
      "authorship_tag": "ABX9TyOtnfYPmHsqIcxZrc6/3Pux",
      "include_colab_link": true
    },
    "kernelspec": {
      "name": "python3",
      "display_name": "Python 3"
    },
    "language_info": {
      "name": "python"
    }
  },
  "cells": [
    {
      "cell_type": "markdown",
      "metadata": {
        "id": "view-in-github",
        "colab_type": "text"
      },
      "source": [
        "<a href=\"https://colab.research.google.com/github/talon-b19/Project/blob/main/Itunes_ETL_Script.ipynb\" target=\"_parent\"><img src=\"https://colab.research.google.com/assets/colab-badge.svg\" alt=\"Open In Colab\"/></a>"
      ]
    },
    {
      "cell_type": "code",
      "execution_count": null,
      "metadata": {
        "id": "UYkY3gFylGWj"
      },
      "outputs": [],
      "source": [
        "import pandas as pd\n",
        "import yaml\n",
        "import logging\n",
        "import os\n",
        "from datetime import datetime\n",
        "from sqlalchemy import create_engine, Table, Column, Integer, String, Float, MetaData, DateTime"
      ]
    },
    {
      "cell_type": "code",
      "source": [
        "def load_config(file_path):\n",
        "  with open(file_path, 'r') as config_file:\n",
        "    config = yaml.safe_load(config_file)\n",
        "  return config"
      ],
      "metadata": {
        "id": "psAm8l8nlw9y"
      },
      "execution_count": null,
      "outputs": []
    },
    {
      "cell_type": "code",
      "source": [
        "def extract(base_url, prarams):\n",
        "  r = requests.get(base_url, params=params)\n",
        "  r.raise_for_status()\n",
        "  return r.jason()['results']"
      ],
      "metadata": {
        "id": "oIJWG48cmSxl"
      },
      "execution_count": null,
      "outputs": []
    },
    {
      "cell_type": "code",
      "source": [
        "def transfrom(data):\n",
        "  return pd.DataFrame(data)"
      ],
      "metadata": {
        "id": "dxq5p41RmzZ2"
      },
      "execution_count": null,
      "outputs": []
    },
    {
      "cell_type": "code",
      "source": [
        "def load(data, output_path):\n",
        "  data.to_excel(output_path, index = False)"
      ],
      "metadata": {
        "id": "RCb6QYypm_cc"
      },
      "execution_count": null,
      "outputs": []
    },
    {
      "cell_type": "code",
      "source": [
        "def configure_logging(log_file_path):\n",
        "  logging.basicConfig(\n",
        "      filename= log_file_path,\n",
        "      level = logging.info,\n",
        "      format = '%(asctime)s - %(levelname)s - %(message)s'\n",
        "  )"
      ],
      "metadata": {
        "id": "5LYjfTSznIMO"
      },
      "execution_count": null,
      "outputs": []
    },
    {
      "cell_type": "code",
      "source": [
        "import os\n",
        "\n",
        "directory_path = 'itunes-api/logs'\n",
        "file_path = 'itunes-api/config.yaml'\n",
        "\n",
        "os.makedirs(directory_path, exist_ok = True)\n",
        "\n",
        "with open(file_path, 'a'):\n",
        "    pass"
      ],
      "metadata": {
        "id": "t1SpPuJFqt3D"
      },
      "execution_count": null,
      "outputs": []
    },
    {
      "cell_type": "code",
      "source": [
        "def main():\n",
        "  #Load configuration\n",
        "  config = load_config('itunes-api/config.yaml')\n",
        "  if config is not None:\n",
        "    base_url = config.get('api', {}).get('base_url')\n",
        "  else:\n",
        "    print(\"Error loading configuration.\")\n",
        "\n",
        "  #Api request parameters\n",
        "  base_url = config['api']['base_url']\n",
        "  params = config['api']['params']\n",
        "\n",
        "  #Extract\n",
        "  data = extract(base_url, params)\n",
        "\n",
        "  #Transfrom\n",
        "  transformed_data = transform(data)\n",
        "\n",
        "  #Load\n",
        "  output_path = config['output_path']\n",
        "  load(transformed_data, output_path)\n",
        "\n",
        "if __name__ == \"__main__\":\n",
        "  configure_logging('../logs/etl_log.txt')\n",
        "  main()\n"
      ],
      "metadata": {
        "id": "MfggAfcunjW4"
      },
      "execution_count": null,
      "outputs": []
    },
    {
      "cell_type": "code",
      "source": [
        "api:\n",
        "  base_url = \"https://itunes.apple.com/search\"\n",
        "  params:\n",
        "    term: \"Sheff G\"\n",
        "    country: \"us\"\n",
        "    limit: 200\n",
        "output_path: \"custom_output/songs_data.xlsx\""
      ],
      "metadata": {
        "id": "hsDcjXjgorb7"
      },
      "execution_count": null,
      "outputs": []
    }
  ]
}